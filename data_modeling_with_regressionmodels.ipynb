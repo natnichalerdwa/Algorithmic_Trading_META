{
 "cells": [
  {
   "cell_type": "code",
   "execution_count": 1,
   "id": "dcbadd56-9624-41dd-ab16-09be78549fc8",
   "metadata": {
    "tags": []
   },
   "outputs": [
    {
     "name": "stdout",
     "output_type": "stream",
     "text": [
      "Requirement already satisfied: fredapi in /Users/natnichalerd/anaconda3/lib/python3.11/site-packages (0.5.2)\n",
      "Requirement already satisfied: pandas in /Users/natnichalerd/anaconda3/lib/python3.11/site-packages (from fredapi) (2.0.3)\n",
      "Requirement already satisfied: python-dateutil>=2.8.2 in /Users/natnichalerd/anaconda3/lib/python3.11/site-packages (from pandas->fredapi) (2.8.2)\n",
      "Requirement already satisfied: pytz>=2020.1 in /Users/natnichalerd/anaconda3/lib/python3.11/site-packages (from pandas->fredapi) (2023.3.post1)\n",
      "Requirement already satisfied: tzdata>=2022.1 in /Users/natnichalerd/anaconda3/lib/python3.11/site-packages (from pandas->fredapi) (2023.3)\n",
      "Requirement already satisfied: numpy>=1.21.0 in /Users/natnichalerd/anaconda3/lib/python3.11/site-packages (from pandas->fredapi) (1.24.3)\n",
      "Requirement already satisfied: six>=1.5 in /Users/natnichalerd/anaconda3/lib/python3.11/site-packages (from python-dateutil>=2.8.2->pandas->fredapi) (1.16.0)\n",
      "Note: you may need to restart the kernel to use updated packages.\n"
     ]
    }
   ],
   "source": [
    "pip install fredapi"
   ]
  },
  {
   "cell_type": "code",
   "execution_count": null,
   "id": "5c9a20b0-475b-4c66-92f5-2ab3375699c6",
   "metadata": {
    "tags": []
   },
   "outputs": [],
   "source": []
  },
  {
   "cell_type": "code",
   "execution_count": 2,
   "id": "55c2ee7c-2b66-4792-a3e2-c41646da8261",
   "metadata": {
    "tags": []
   },
   "outputs": [],
   "source": [
    "# Kernel density visualization of logged returns"
   ]
  },
  {
   "cell_type": "code",
   "execution_count": 3,
   "id": "a1e69860-7cd0-4f84-b1a3-a9a8040a5472",
   "metadata": {
    "tags": []
   },
   "outputs": [],
   "source": [
    "# imports\n",
    "import yfinance as yf\n",
    "import numpy as np\n",
    "from scipy.optimize import minimize\n",
    "import matplotlib.pyplot as plt\n",
    "import pandas as pd\n",
    "import pandas_datareader as DataReader\n",
    "import seaborn as sns\n",
    "from datetime import datetime\n",
    "from fredapi import Fred\n",
    "import scipy.stats as ss\n",
    "from sklearn import linear_model\n",
    "import statsmodels.api as sm"
   ]
  },
  {
   "cell_type": "code",
   "execution_count": 4,
   "id": "1884c31e-7b1a-4f80-baeb-497db890ac2e",
   "metadata": {
    "tags": []
   },
   "outputs": [
    {
     "name": "stderr",
     "output_type": "stream",
     "text": [
      "[*********************100%***********************]  1 of 1 completed"
     ]
    },
    {
     "name": "stdout",
     "output_type": "stream",
     "text": [
      "                  Open        High         Low       Close   Adj Close  \\\n",
      "Date                                                                     \n",
      "2020-01-02  206.750000  209.789993  206.270004  209.779999  209.150269   \n",
      "2020-01-03  207.210007  210.399994  206.949997  208.669998  208.043610   \n",
      "2020-01-06  206.699997  212.779999  206.520004  212.600006  211.961823   \n",
      "2020-01-07  212.820007  214.580002  211.750000  213.059998  212.420425   \n",
      "2020-01-08  213.000000  216.240005  212.610001  215.220001  214.573944   \n",
      "...                ...         ...         ...         ...         ...   \n",
      "2024-08-26  527.599976  528.000000  514.950012  521.119995  520.623352   \n",
      "2024-08-27  518.979980  524.010010  515.309998  519.099976  518.605225   \n",
      "2024-08-28  517.669983  521.090027  512.450012  516.780029  516.287476   \n",
      "2024-08-29  519.049988  527.200012  515.679993  518.219971  517.726074   \n",
      "2024-08-30  521.349976  523.539978  515.200012  521.309998  520.813171   \n",
      "\n",
      "              Volume  \n",
      "Date                  \n",
      "2020-01-02  12077100  \n",
      "2020-01-03  11188400  \n",
      "2020-01-06  17058900  \n",
      "2020-01-07  14912400  \n",
      "2020-01-08  13475000  \n",
      "...              ...  \n",
      "2024-08-26   9584000  \n",
      "2024-08-27   6282700  \n",
      "2024-08-28   9106100  \n",
      "2024-08-29   8317400  \n",
      "2024-08-30   9157500  \n",
      "\n",
      "[1174 rows x 6 columns]\n"
     ]
    },
    {
     "name": "stderr",
     "output_type": "stream",
     "text": [
      "\n"
     ]
    }
   ],
   "source": [
    "# META\n",
    "# Define the stock symbol and the time period\n",
    "ticker_symbol = 'META'  # META\n",
    "start_date = '2020-01-01'  # Start date (YYYY-MM-DD)\n",
    "end_date = '2024-08-31'    # End date (YYYY-MM-DD)\n",
    "\n",
    "# Fetch the stock data\n",
    "stock_data = yf.download(ticker_symbol, start=start_date, end=end_date)\n",
    "\n",
    "# Display the data\n",
    "print(stock_data)"
   ]
  },
  {
   "cell_type": "code",
   "execution_count": 5,
   "id": "fabf6c47-d411-4624-9b94-d1f522c53996",
   "metadata": {
    "tags": []
   },
   "outputs": [
    {
     "name": "stdout",
     "output_type": "stream",
     "text": [
      "Requirement already satisfied: ta in /Users/natnichalerd/anaconda3/lib/python3.11/site-packages (0.11.0)\n",
      "Requirement already satisfied: pykalman in /Users/natnichalerd/anaconda3/lib/python3.11/site-packages (0.9.7)\n",
      "Requirement already satisfied: numpy in /Users/natnichalerd/anaconda3/lib/python3.11/site-packages (from ta) (1.24.3)\n",
      "Requirement already satisfied: pandas in /Users/natnichalerd/anaconda3/lib/python3.11/site-packages (from ta) (2.0.3)\n",
      "Requirement already satisfied: scipy in /Users/natnichalerd/anaconda3/lib/python3.11/site-packages (from pykalman) (1.11.1)\n",
      "Requirement already satisfied: python-dateutil>=2.8.2 in /Users/natnichalerd/anaconda3/lib/python3.11/site-packages (from pandas->ta) (2.8.2)\n",
      "Requirement already satisfied: pytz>=2020.1 in /Users/natnichalerd/anaconda3/lib/python3.11/site-packages (from pandas->ta) (2023.3.post1)\n",
      "Requirement already satisfied: tzdata>=2022.1 in /Users/natnichalerd/anaconda3/lib/python3.11/site-packages (from pandas->ta) (2023.3)\n",
      "Requirement already satisfied: six>=1.5 in /Users/natnichalerd/anaconda3/lib/python3.11/site-packages (from python-dateutil>=2.8.2->pandas->ta) (1.16.0)\n",
      "Note: you may need to restart the kernel to use updated packages.\n"
     ]
    }
   ],
   "source": [
    "pip install ta pykalman"
   ]
  },
  {
   "cell_type": "code",
   "execution_count": 6,
   "id": "3483308e-1967-46c4-95e2-0ca25f4631e4",
   "metadata": {
    "tags": []
   },
   "outputs": [
    {
     "name": "stderr",
     "output_type": "stream",
     "text": [
      "[*********************100%***********************]  1 of 1 completed\n"
     ]
    },
    {
     "name": "stdout",
     "output_type": "stream",
     "text": [
      "Technical indicators added and dataset saved as 'META_with_technical_indicators.csv'.\n"
     ]
    }
   ],
   "source": [
    "import pandas as pd\n",
    "import numpy as np\n",
    "import yfinance as yf\n",
    "from ta.momentum import RSIIndicator\n",
    "from ta.volatility import BollingerBands\n",
    "from ta.trend import SMAIndicator\n",
    "from ta.volume import OnBalanceVolumeIndicator\n",
    "from pykalman import KalmanFilter\n",
    "\n",
    "# Define the stock symbol and the time period\n",
    "ticker_symbol = 'META'  # META\n",
    "start_date = '2019-01-01'  # Start date (YYYY-MM-DD)\n",
    "end_date = '2024-08-31'    # End date (YYYY-MM-DD)\n",
    "\n",
    "# Fetch the stock data\n",
    "stock_data = yf.download(ticker_symbol, start=start_date, end=end_date)\n",
    "\n",
    "# Ensure the dataset is not empty\n",
    "if stock_data.empty:\n",
    "    raise ValueError(\"No data fetched. Please check the ticker symbol and date range.\")\n",
    "\n",
    "# Calculate RSI\n",
    "stock_data['RSI'] = RSIIndicator(close=stock_data['Close'], window=14).rsi()\n",
    "\n",
    "# Calculate Bollinger Band-based Volatility\n",
    "bb_indicator = BollingerBands(close=stock_data['Close'], window=20, window_dev=2)\n",
    "stock_data['Volatility'] = bb_indicator.bollinger_hband() - bb_indicator.bollinger_lband()\n",
    "\n",
    "# Calculate Simple Moving Averages (SMA20 and SMA50)\n",
    "stock_data['SMA20'] = SMAIndicator(close=stock_data['Close'], window=20).sma_indicator()\n",
    "stock_data['SMA50'] = SMAIndicator(close=stock_data['Close'], window=50).sma_indicator()\n",
    "\n",
    "# Calculate On-Balance Volume (OBV)\n",
    "stock_data['OBV'] = OnBalanceVolumeIndicator(close=stock_data['Close'], volume=stock_data['Volume']).on_balance_volume()\n",
    "\n",
    "# Function to apply Kalman Filter\n",
    "def apply_kalman_filter(data):\n",
    "    kf = KalmanFilter(initial_state_mean=0, n_dim_obs=1)\n",
    "    kf = kf.em(data.values.reshape(-1, 1), n_iter=10)\n",
    "    state_means, _ = kf.filter(data.values.reshape(-1, 1))\n",
    "    return state_means.flatten()\n",
    "\n",
    "# Apply Kalman Filter to the 'Close' column\n",
    "stock_data['Kalman'] = apply_kalman_filter(stock_data['Close'])\n",
    "\n",
    "# Calculate log returns\n",
    "stock_data['log_return'] = np.log(stock_data['Close'] / stock_data['Close'].shift(1))\n",
    "\n",
    "# Fill any NaN values generated in the calculations\n",
    "stock_data.fillna(method='ffill', inplace=True)\n",
    "stock_data.dropna(inplace=True)\n",
    "\n",
    "# Save the resulting dataset as a CSV file\n",
    "output_file = 'META_with_technical_indicators.csv'\n",
    "stock_data.to_csv(output_file)\n",
    "\n",
    "print(f\"Technical indicators added and dataset saved as '{output_file}'.\")\n"
   ]
  },
  {
   "cell_type": "code",
   "execution_count": 7,
   "id": "487e26a4-ae2f-4fe3-9069-b2e8a5a1fa99",
   "metadata": {
    "tags": []
   },
   "outputs": [
    {
     "name": "stderr",
     "output_type": "stream",
     "text": [
      "[*********************100%***********************]  1 of 1 completed"
     ]
    },
    {
     "name": "stdout",
     "output_type": "stream",
     "text": [
      "sample mean (average daily log returns): 0.07777820966233326%\n",
      "sample standard deviation of log returns: 2.928802467044888%\n"
     ]
    },
    {
     "name": "stderr",
     "output_type": "stream",
     "text": [
      "\n"
     ]
    },
    {
     "data": {
      "text/plain": [
       "<matplotlib.legend.Legend at 0x13badad50>"
      ]
     },
     "execution_count": 7,
     "metadata": {},
     "output_type": "execute_result"
    },
    {
     "data": {
      "text/plain": [
       "<Figure size 1200x600 with 0 Axes>"
      ]
     },
     "metadata": {},
     "output_type": "display_data"
    },
    {
     "data": {
      "image/png": "[encoded data removed]",
      "text/plain": [
       "<Figure size 640x480 with 1 Axes>"
      ]
     },
     "metadata": {},
     "output_type": "display_data"
    }
   ],
   "source": [
    "start_date = datetime(2020,1,1)\n",
    "end_date = datetime(2024,8,31)\n",
    "\n",
    "stock_symbol = \"META\"\n",
    "stocks = yf.download(stock_symbol,start_date ,end_date)\n",
    "\n",
    "# Calculate log returns from Adjusted Close\n",
    "stocks['Log Returns'] = np.log(stocks['Adj Close'] / stocks['Adj Close'].shift(1))\n",
    "X = stocks['Log Returns'].dropna()  # Drop NaN values\n",
    "mu = np.mean(X) * 100\n",
    "se = np.std(X) * 100\n",
    "print(f\"sample mean (average daily log returns): {mu}%\")\n",
    "print(f\"sample standard deviation of log returns: {se}%\")\n",
    "\n",
    "# Given parameters\n",
    "mu_1 = 0.0005\n",
    "sigma1 = 0.022\n",
    "T = 2000\n",
    "\n",
    "# Generate the data for r\n",
    "r = mu_1 + sigma1 * np.random.normal(0, 1, T)\n",
    "\n",
    "# Plotting the histogram of r\n",
    "plt.figure(figsize=(12,6))\n",
    "fig, ax = plt.subplots()\n",
    "sns.kdeplot(data=X, linewidth=4)\n",
    "plt.hist(r, bins=100, density=True, alpha=0.6, color='green', label=\"Histogram\")\n",
    "plt.xlabel(\"Log returns\")\n",
    "plt.ylabel(\"Density\")\n",
    "plt.xlim(-0.35, 0.35)\n",
    "ax.legend([f'Empirical Kernal Distribution: {stock_symbol}', 'Mixture Model Simulated Distribution'])"
   ]
  },
  {
   "cell_type": "code",
   "execution_count": 8,
   "id": "ffa5fd60-bd32-4809-8a66-2f99990546ec",
   "metadata": {},
   "outputs": [
    {
     "name": "stderr",
     "output_type": "stream",
     "text": [
      "[*********************100%***********************]  1 of 1 completed"
     ]
    },
    {
     "name": "stdout",
     "output_type": "stream",
     "text": [
      "                  Open        High         Low       Close   Adj Close  \\\n",
      "Date                                                                     \n",
      "2020-01-02   67.077499   68.406998   67.077499   68.368500   68.123726   \n",
      "2020-01-03   67.392998   68.625000   67.277199   68.032997   67.789421   \n",
      "2020-01-06   67.500000   69.824997   67.500000   69.710503   69.460922   \n",
      "2020-01-07   69.897003   70.149498   69.518997   69.667000   69.417580   \n",
      "2020-01-08   69.603996   70.579002   69.542000   70.216003   69.964615   \n",
      "...                ...         ...         ...         ...         ...   \n",
      "2024-08-26  168.154999  169.380005  166.320007  167.929993  167.519180   \n",
      "2024-08-27  167.610001  168.244995  166.160004  166.380005  165.972992   \n",
      "2024-08-28  166.779999  167.389999  163.279999  164.500000  164.097565   \n",
      "2024-08-29  166.059998  167.630005  161.981995  163.399994  163.000259   \n",
      "2024-08-30  164.220001  165.279999  163.410004  165.110001  164.706085   \n",
      "\n",
      "              Volume  \n",
      "Date                  \n",
      "2020-01-02  28132000  \n",
      "2020-01-03  23728000  \n",
      "2020-01-06  34646000  \n",
      "2020-01-07  30054000  \n",
      "2020-01-08  30560000  \n",
      "...              ...  \n",
      "2024-08-26  11990300  \n",
      "2024-08-27  13718200  \n",
      "2024-08-28  15208700  \n",
      "2024-08-29  17133800  \n",
      "2024-08-30  18498800  \n",
      "\n",
      "[1174 rows x 6 columns]\n"
     ]
    },
    {
     "name": "stderr",
     "output_type": "stream",
     "text": [
      "\n"
     ]
    }
   ],
   "source": [
    "# Google\n",
    "# Define the stock symbol and the time period\n",
    "ticker_symbol = 'GOOG'  # GOOGLE\n",
    "start_date = '2020-01-01'  # Start date (YYYY-MM-DD)\n",
    "end_date = '2024-08-31'    # End date (YYYY-MM-DD)\n",
    "\n",
    "# Fetch the stock data\n",
    "stock_data = yf.download(ticker_symbol, start=start_date, end=end_date)\n",
    "\n",
    "# Display the data\n",
    "print(stock_data)"
   ]
  },
  {
   "cell_type": "code",
   "execution_count": 9,
   "id": "271d40c2-4754-4f09-95c9-3d69bbcc5eec",
   "metadata": {},
   "outputs": [
    {
     "name": "stderr",
     "output_type": "stream",
     "text": [
      "[*********************100%***********************]  1 of 1 completed"
     ]
    },
    {
     "name": "stdout",
     "output_type": "stream",
     "text": [
      "sample mean (average daily log returns): 0.07526317420424866%\n",
      "sample standard deviation of log returns: 2.0595989262254477%\n"
     ]
    },
    {
     "name": "stderr",
     "output_type": "stream",
     "text": [
      "\n"
     ]
    },
    {
     "data": {
      "text/plain": [
       "<matplotlib.legend.Legend at 0x13be29590>"
      ]
     },
     "execution_count": 9,
     "metadata": {},
     "output_type": "execute_result"
    },
    {
     "data": {
      "text/plain": [
       "<Figure size 1200x600 with 0 Axes>"
      ]
     },
     "metadata": {},
     "output_type": "display_data"
    },
    {
     "data": {
      "image/png": "[encoded data removed]",
      "text/plain": [
       "<Figure size 640x480 with 1 Axes>"
      ]
     },
     "metadata": {},
     "output_type": "display_data"
    }
   ],
   "source": [
    "start_date = datetime(2020,1,1)\n",
    "end_date = datetime(2024,8,31)\n",
    "\n",
    "stock_symbol = \"GOOG\"\n",
    "stocks = yf.download(stock_symbol,start_date ,end_date)\n",
    "\n",
    "# Calculate log returns from Adjusted Close\n",
    "stocks['Log Returns'] = np.log(stocks['Adj Close'] / stocks['Adj Close'].shift(1))\n",
    "X = stocks['Log Returns'].dropna()  # Drop NaN values\n",
    "mu = np.mean(X) * 100\n",
    "se = np.std(X) * 100\n",
    "print(f\"sample mean (average daily log returns): {mu}%\")\n",
    "print(f\"sample standard deviation of log returns: {se}%\")\n",
    "\n",
    "# Given parameters\n",
    "mu_1 = 0.00035\n",
    "sigma1 = 0.016\n",
    "T = 2000\n",
    "\n",
    "# Generate the data for r\n",
    "r = mu_1 + sigma1 * np.random.normal(0, 1, T)\n",
    "\n",
    "# Plotting the histogram of r\n",
    "plt.figure(figsize=(12,6))\n",
    "fig, ax = plt.subplots()\n",
    "sns.kdeplot(data=X, linewidth=4)\n",
    "plt.hist(r, bins=100, density=True, alpha=0.6, color='green', label=\"Histogram\")\n",
    "plt.xlabel(\"Log returns\")\n",
    "plt.ylabel(\"Density\")\n",
    "plt.xlim(-0.2, 0.2)\n",
    "ax.legend([f'Empirical Kernal Distribution: {stock_symbol}', 'Mixture Model Simulated Distribution'])"
   ]
  },
  {
   "cell_type": "code",
   "execution_count": 10,
   "id": "cad0d16e-ae04-4d59-995d-4b8e23b47f61",
   "metadata": {},
   "outputs": [
    {
     "name": "stderr",
     "output_type": "stream",
     "text": [
      "[*********************100%***********************]  1 of 1 completed"
     ]
    },
    {
     "name": "stdout",
     "output_type": "stream",
     "text": [
      "                 Open       High        Low      Close  Adj Close    Volume\n",
      "Date                                                                       \n",
      "2020-01-02  16.620001  16.950001  16.459999  16.780001  16.780001  26062600\n",
      "2020-01-03  16.430000  17.100000  16.350000  16.750000  16.750000  19761500\n",
      "2020-01-06  16.650000  16.790001  16.410000  16.780001  16.780001  15952600\n",
      "2020-01-07  16.870001  17.065001  16.549999  17.030001  17.030001  21146400\n",
      "2020-01-08  16.980000  17.010000  16.650000  16.670000  16.670000  15600900\n",
      "...               ...        ...        ...        ...        ...       ...\n",
      "2024-08-26   9.400000   9.620000   9.384000   9.420000   9.420000  21843400\n",
      "2024-08-27   9.280000   9.570000   9.280000   9.500000   9.500000  17453900\n",
      "2024-08-28   9.380000   9.440000   9.130000   9.180000   9.180000  17945100\n",
      "2024-08-29   9.290000   9.440000   9.160000   9.220000   9.220000  19312600\n",
      "2024-08-30   9.340000   9.420000   9.180000   9.340000   9.340000  17230600\n",
      "\n",
      "[1174 rows x 6 columns]\n"
     ]
    },
    {
     "name": "stderr",
     "output_type": "stream",
     "text": [
      "\n"
     ]
    }
   ],
   "source": [
    "# SNAP\n",
    "# Define the stock symbol and the time period\n",
    "ticker_symbol = 'SNAP'  # SNAP\n",
    "start_date = '2020-01-01'  # Start date (YYYY-MM-DD)\n",
    "end_date = '2024-08-31'    # End date (YYYY-MM-DD)\n",
    "\n",
    "# Fetch the stock data\n",
    "stock_data = yf.download(ticker_symbol, start=start_date, end=end_date)\n",
    "\n",
    "# Display the data\n",
    "print(stock_data)"
   ]
  },
  {
   "cell_type": "code",
   "execution_count": 11,
   "id": "bf9ad36f-43a5-45d6-978e-a21559f2c570",
   "metadata": {},
   "outputs": [
    {
     "name": "stderr",
     "output_type": "stream",
     "text": [
      "[*********************100%***********************]  1 of 1 completed"
     ]
    },
    {
     "name": "stdout",
     "output_type": "stream",
     "text": [
      "sample mean (average daily log returns): -0.04994726968301328%\n",
      "sample standard deviation of log returns: 5.255023402517026%\n"
     ]
    },
    {
     "name": "stderr",
     "output_type": "stream",
     "text": [
      "\n"
     ]
    },
    {
     "data": {
      "text/plain": [
       "<matplotlib.legend.Legend at 0x13bba9a50>"
      ]
     },
     "execution_count": 11,
     "metadata": {},
     "output_type": "execute_result"
    },
    {
     "data": {
      "text/plain": [
       "<Figure size 1200x600 with 0 Axes>"
      ]
     },
     "metadata": {},
     "output_type": "display_data"
    },
    {
     "data": {
      "image/png": "[encoded data removed]",
      "text/plain": [
       "<Figure size 640x480 with 1 Axes>"
      ]
     },
     "metadata": {},
     "output_type": "display_data"
    }
   ],
   "source": [
    "start_date = datetime(2020,1,1)\n",
    "end_date = datetime(2024,8,31)\n",
    "\n",
    "stock_symbol = \"SNAP\"\n",
    "stocks = yf.download(stock_symbol,start_date ,end_date)\n",
    "\n",
    "# Calculate log returns from Adjusted Close\n",
    "stocks['Log Returns'] = np.log(stocks['Adj Close'] / stocks['Adj Close'].shift(1))\n",
    "X = stocks['Log Returns'].dropna()  # Drop NaN values\n",
    "mu = np.mean(X) * 100\n",
    "se = np.std(X) * 100\n",
    "print(f\"sample mean (average daily log returns): {mu}%\")\n",
    "print(f\"sample standard deviation of log returns: {se}%\")\n",
    "\n",
    "# Given parameters\n",
    "mu_1 = 0.0001\n",
    "sigma1 = 0.036\n",
    "T = 2000\n",
    "\n",
    "# Generate the data for r\n",
    "r = mu_1 + sigma1 * np.random.normal(0, 1, T)\n",
    "\n",
    "# Plotting the histogram of r\n",
    "plt.figure(figsize=(12,6))\n",
    "fig, ax = plt.subplots()\n",
    "sns.kdeplot(data=X, linewidth=4)\n",
    "plt.hist(r, bins=100, density=True, alpha=0.6, color='green', label=\"Histogram\")\n",
    "plt.xlabel(\"Log returns\")\n",
    "plt.ylabel(\"Density\")\n",
    "plt.xlim(-0.3, 0.3)\n",
    "ax.legend([f'Empirical Kernal Distribution: {stock_symbol}', 'Mixture Model Simulated Distribution'])"
   ]
  },
  {
   "cell_type": "code",
   "execution_count": 12,
   "id": "f0beea78-f13a-423f-a84f-5f3996d2dfb4",
   "metadata": {},
   "outputs": [
    {
     "name": "stderr",
     "output_type": "stream",
     "text": [
      "[*********************100%***********************]  1 of 1 completed"
     ]
    },
    {
     "name": "stdout",
     "output_type": "stream",
     "text": [
      "                  Open        High         Low       Close   Adj Close  \\\n",
      "Date                                                                     \n",
      "2020-01-02   74.059998   75.150002   73.797501   75.087502   72.796021   \n",
      "2020-01-03   74.287498   75.144997   74.125000   74.357498   72.088303   \n",
      "2020-01-06   73.447502   74.989998   73.187500   74.949997   72.662720   \n",
      "2020-01-07   74.959999   75.224998   74.370003   74.597504   72.320976   \n",
      "2020-01-08   74.290001   76.110001   74.290001   75.797501   73.484352   \n",
      "...                ...         ...         ...         ...         ...   \n",
      "2024-08-26  226.759995  227.279999  223.889999  227.179993  226.930328   \n",
      "2024-08-27  226.000000  228.850006  224.889999  228.029999  227.779388   \n",
      "2024-08-28  227.919998  229.860001  225.679993  226.490005  226.241089   \n",
      "2024-08-29  230.100006  232.919998  228.880005  229.789993  229.537460   \n",
      "2024-08-30  230.190002  230.399994  227.479996  229.000000  228.748337   \n",
      "\n",
      "               Volume  \n",
      "Date                   \n",
      "2020-01-02  135480400  \n",
      "2020-01-03  146322800  \n",
      "2020-01-06  118387200  \n",
      "2020-01-07  108872000  \n",
      "2020-01-08  132079200  \n",
      "...               ...  \n",
      "2024-08-26   30602200  \n",
      "2024-08-27   35934600  \n",
      "2024-08-28   38052200  \n",
      "2024-08-29   51906300  \n",
      "2024-08-30   52990800  \n",
      "\n",
      "[1174 rows x 6 columns]\n"
     ]
    },
    {
     "name": "stderr",
     "output_type": "stream",
     "text": [
      "\n"
     ]
    }
   ],
   "source": [
    "# APPLE\n",
    "# Define the stock symbol and the time period\n",
    "ticker_symbol = 'AAPL'  # APPLE\n",
    "start_date = '2020-01-01'  # Start date (YYYY-MM-DD)\n",
    "end_date = '2024-08-31'    # End date (YYYY-MM-DD)\n",
    "\n",
    "# Fetch the stock data\n",
    "stock_data = yf.download(ticker_symbol, start=start_date, end=end_date)\n",
    "\n",
    "# Display the data\n",
    "print(stock_data)"
   ]
  },
  {
   "cell_type": "code",
   "execution_count": 13,
   "id": "a5f0ff9e-febb-434a-8b47-7fa27bead606",
   "metadata": {},
   "outputs": [
    {
     "name": "stderr",
     "output_type": "stream",
     "text": [
      "[*********************100%***********************]  1 of 1 completed"
     ]
    },
    {
     "name": "stdout",
     "output_type": "stream",
     "text": [
      "sample mean (average daily log returns): 0.09760964560274508%\n",
      "sample standard deviation of log returns: 2.038317351391555%\n"
     ]
    },
    {
     "name": "stderr",
     "output_type": "stream",
     "text": [
      "\n"
     ]
    },
    {
     "data": {
      "text/plain": [
       "<matplotlib.legend.Legend at 0x13c1ed690>"
      ]
     },
     "execution_count": 13,
     "metadata": {},
     "output_type": "execute_result"
    },
    {
     "data": {
      "text/plain": [
       "<Figure size 1200x600 with 0 Axes>"
      ]
     },
     "metadata": {},
     "output_type": "display_data"
    },
    {
     "data": {
      "image/png": "[encoded data removed]",
      "text/plain": [
       "<Figure size 640x480 with 1 Axes>"
      ]
     },
     "metadata": {},
     "output_type": "display_data"
    }
   ],
   "source": [
    "start_date = datetime(2020,1,1)\n",
    "end_date = datetime(2024,8,31)\n",
    "\n",
    "stock_symbol = \"AAPL\"\n",
    "stocks = yf.download(stock_symbol,start_date ,end_date)\n",
    "\n",
    "# Calculate log returns from Adjusted Close\n",
    "stocks['Log Returns'] = np.log(stocks['Adj Close'] / stocks['Adj Close'].shift(1))\n",
    "X = stocks['Log Returns'].dropna()  # Drop NaN values\n",
    "mu = np.mean(X) * 100\n",
    "se = np.std(X) * 100\n",
    "print(f\"sample mean (average daily log returns): {mu}%\")\n",
    "print(f\"sample standard deviation of log returns: {se}%\")\n",
    "\n",
    "# Given parameters\n",
    "mu_1 = 0.00015\n",
    "sigma1 = 0.016\n",
    "T = 2000\n",
    "\n",
    "# Generate the data for r\n",
    "r = mu_1 + sigma1 * np.random.normal(0, 1, T)\n",
    "\n",
    "# Plotting the histogram of r\n",
    "plt.figure(figsize=(12,6))\n",
    "fig, ax = plt.subplots()\n",
    "sns.kdeplot(data=X, linewidth=4)\n",
    "plt.hist(r, bins=100, density=True, alpha=0.6, color='green', label=\"Histogram\")\n",
    "plt.xlabel(\"Log returns\")\n",
    "plt.ylabel(\"Density\")\n",
    "plt.xlim(-0.2, 0.2)\n",
    "ax.legend([f'Empirical Kernal Distribution: {stock_symbol}', 'Mixture Model Simulated Distribution'])"
   ]
  },
  {
   "cell_type": "code",
   "execution_count": 14,
   "id": "054bd3a7-2f25-463c-9929-cc401662789e",
   "metadata": {},
   "outputs": [
    {
     "name": "stdout",
     "output_type": "stream",
     "text": [
      "            Mkt-RF   SMB   HML   RMW   CMA     RF\n",
      "date                                             \n",
      "1963-07-01   -0.67  0.02 -0.35  0.03  0.13  0.012\n",
      "1963-07-02    0.79 -0.28  0.28 -0.08 -0.21  0.012\n",
      "1963-07-03    0.63 -0.18 -0.10  0.13 -0.25  0.012\n",
      "1963-07-05    0.40  0.09 -0.28  0.07 -0.30  0.012\n",
      "1963-07-08   -0.63  0.07 -0.20 -0.27  0.06  0.012\n",
      "(15417, 6)\n"
     ]
    }
   ],
   "source": [
    "# 1. FAMA-FRENCH 5 FACTORS\n",
    "# Get the Fama French 5 factor model (monthly data)\n",
    "column_names=['date', 'Mkt-RF', 'SMB', 'HML', 'RMW', 'CMA', 'RF']\n",
    "data_ff5 = pd.read_csv(\n",
    "    'F-F_Research_Data_5_Factors_2x3_daily.csv',\n",
    "    usecols=range(7),  # Only read the first 7 columns\n",
    "    names=column_names,\n",
    "    header=None,\n",
    "    skiprows=4)\n",
    "data_ff5['date'] = data_ff5['date'].astype(str).str[0:4]+'-'\\\n",
    "                    +data_ff5['date'].astype(str).str[4:6]+'-'\\\n",
    "                    +data_ff5['date'].astype(str).str[6:8]\n",
    "                    \n",
    "data_ff5['date'] = pd.to_datetime(data_ff5['date'], format='%Y-%m-%d')\n",
    "data_ff5['date'] = data_ff5['date'].dt.date\n",
    "df_ffs = data_ff5.set_index('date')\n",
    "\n",
    "print(df_ffs.head())\n",
    "print(df_ffs.shape)"
   ]
  },
  {
   "cell_type": "code",
   "execution_count": 15,
   "id": "20917558-e6b6-495a-b5d1-cbf54064df02",
   "metadata": {},
   "outputs": [],
   "source": [
    "# 2. ADS INDEX\n",
    "data_ads = pd.read_excel('ADS_Index_Most_Current_Vintage.xlsx')\n",
    "# manually replace : into -\n",
    "df_ads = data_ads.set_index('date')\n",
    "df_ads.index = pd.to_datetime(df_ads.index, format='%Y:%m:%d')"
   ]
  },
  {
   "cell_type": "code",
   "execution_count": 16,
   "id": "b6c9e51a-fd78-4e00-8edd-dc01184b5ac8",
   "metadata": {},
   "outputs": [],
   "source": [
    "# 3. FRED DATA\n",
    "fred = Fred(api_key='54dfdd8235a4e8e857eb4e5e4e77aed4')\n",
    "varList = ['T10Y3M', 'DGS10', 'OBMMIJUMBO30YF',  # term premium 10yr-3mon, 30 yr mortgage jumbo loan\n",
    "           'DEXUSEU', 'DEXJPUS', 'DEXUSUK', # spot exchange rates to EUR, JPY, GBP \n",
    "           'CBBTCUSD', 'CBETHUSD',  # cryptocurrencies\n",
    "               'T10YIE', 'DCOILBRENTEU', # breakeven inflation + brent oil price \n",
    "               'VIXCLS', # implied volatilities\n",
    "               'DAAA', 'DBAA', # corporate bond yield\n",
    "              'AMERIBOR', 'T5YIE', 'BAMLH0A0HYM2','BAMLH0A0HYM2EY', 'DGS1', 'DCOILWTICO', \n",
    "                              'DHHNGSP', 'EMVELECTGOVRN', 'ECIWAG'] \n",
    "\n",
    "SP500 = fred.get_series('SP500')\n",
    "SP500.name = 'SP500'\n",
    "df_fred = SP500\n",
    "\n",
    "# merge data series\n",
    "for i in range(0, len(varList)):\n",
    "    data = fred.get_series(varList[i])\n",
    "    data.name = varList[i]\n",
    "    df_fred = pd.merge(df_fred, data, left_index=True, right_index=True, how='outer')"
   ]
  },
  {
   "cell_type": "code",
   "execution_count": 17,
   "id": "7d2b0c04-b08f-458b-92dc-1276bdafd940",
   "metadata": {
    "tags": []
   },
   "outputs": [
    {
     "name": "stdout",
     "output_type": "stream",
     "text": [
      "df_ffs index: Index([1963-07-01, 1963-07-02, 1963-07-03, 1963-07-05, 1963-07-08, 1963-07-09,\n",
      "       1963-07-10, 1963-07-11, 1963-07-12, 1963-07-15,\n",
      "       ...\n",
      "       2024-09-17, 2024-09-18, 2024-09-19, 2024-09-20, 2024-09-23, 2024-09-24,\n",
      "       2024-09-25, 2024-09-26, 2024-09-27, 2024-09-30],\n",
      "      dtype='object', name='date', length=15417)\n",
      "df_ads index: DatetimeIndex(['1960-03-01', '1960-03-02', '1960-03-03', '1960-03-04',\n",
      "               '1960-03-05', '1960-03-06', '1960-03-07', '1960-03-08',\n",
      "               '1960-03-09', '1960-03-10',\n",
      "               ...\n",
      "               '2024-11-07', '2024-11-08', '2024-11-09', '2024-11-10',\n",
      "               '2024-11-11', '2024-11-12', '2024-11-13', '2024-11-14',\n",
      "               '2024-11-15', '2024-11-16'],\n",
      "              dtype='datetime64[ns]', name='date', length=23637, freq=None)\n",
      "df_fred index: DatetimeIndex(['1962-01-02', '1962-01-03', '1962-01-04', '1962-01-05',\n",
      "               '1962-01-08', '1962-01-09', '1962-01-10', '1962-01-11',\n",
      "               '1962-01-12', '1962-01-15',\n",
      "               ...\n",
      "               '2024-11-30', '2024-12-01', '2024-12-02', '2024-12-03',\n",
      "               '2024-12-04', '2024-12-05', '2024-12-06', '2024-12-07',\n",
      "               '2024-12-08', '2024-12-09'],\n",
      "              dtype='datetime64[ns]', length=17634, freq=None)\n"
     ]
    }
   ],
   "source": [
    "print(\"df_ffs index:\", df_ffs.index)\n",
    "print(\"df_ads index:\", df_ads.index)\n",
    "print(\"df_fred index:\", df_fred.index)"
   ]
  },
  {
   "cell_type": "code",
   "execution_count": 18,
   "id": "fb42b76b-48fa-4d4a-a8de-2e50cf10ffa0",
   "metadata": {
    "tags": []
   },
   "outputs": [
    {
     "name": "stdout",
     "output_type": "stream",
     "text": [
      "(15417, 6)\n",
      "(23637, 1)\n",
      "(17634, 23)\n"
     ]
    }
   ],
   "source": [
    "print(df_ffs.shape)\n",
    "print(df_ads.shape)\n",
    "print(df_fred.shape)"
   ]
  },
  {
   "cell_type": "code",
   "execution_count": 19,
   "id": "4cc49932-b619-4ce3-93db-8c07afe8cf53",
   "metadata": {
    "tags": []
   },
   "outputs": [
    {
     "name": "stdout",
     "output_type": "stream",
     "text": [
      "1963-07-01\n",
      "2024-09-30\n"
     ]
    }
   ],
   "source": [
    "print(df_ffs.index.min())  # Minimum date in df_ffs\n",
    "print(df_ffs.index.max())  # Maximum date in df_ffs"
   ]
  },
  {
   "cell_type": "code",
   "execution_count": 20,
   "id": "6728e36e-bb36-4162-8dce-1045825f3bcd",
   "metadata": {},
   "outputs": [
    {
     "name": "stdout",
     "output_type": "stream",
     "text": [
      "Index(['Date', 'Mkt-RF', 'SMB', 'HML', 'RMW', 'CMA', 'RF', 'ADS_Index',\n",
      "       'SP500', 'T10Y3M', 'DGS10', 'OBMMIJUMBO30YF', 'DEXUSEU', 'DEXJPUS',\n",
      "       'DEXUSUK', 'CBBTCUSD', 'CBETHUSD', 'T10YIE', 'DCOILBRENTEU', 'VIXCLS',\n",
      "       'DAAA', 'DBAA', 'AMERIBOR', 'T5YIE', 'BAMLH0A0HYM2', 'BAMLH0A0HYM2EY',\n",
      "       'DGS1', 'DCOILWTICO', 'DHHNGSP', 'EMVELECTGOVRN_interp',\n",
      "       'ECIWAG_interp'],\n",
      "      dtype='object')\n"
     ]
    }
   ],
   "source": [
    "start_date = datetime(2019, 1, 1)  # Start date for interpolation using 2019 data\n",
    "end_date = datetime(2024, 8, 31)\n",
    "\n",
    "# Convert index to datetime\n",
    "df_ffs.index = pd.to_datetime(df_ffs.index)\n",
    "\n",
    "# Apply mask for the date range (2019-2024) for interpolation\n",
    "mask = (df_ffs.index >= start_date) & (df_ffs.index <= end_date)\n",
    "df_ffs = df_ffs.loc[mask]\n",
    "\n",
    "# Merge datasets\n",
    "DATA_part1 = pd.merge(df_ffs, df_ads, left_index=True, right_index=True)\n",
    "DATA = pd.merge(DATA_part1, df_fred, left_index=True, right_index=True)\n",
    "\n",
    "# Perform polynomial interpolation for missing values\n",
    "DATA['EMVELECTGOVRN_interp'] = DATA['EMVELECTGOVRN'].interpolate(method='polynomial', order=2)\n",
    "DATA['ECIWAG_interp'] = DATA['ECIWAG'].interpolate(method='polynomial', order=2)\n",
    "\n",
    "# Drop the 'ECIWAG' and 'EMVELECTGOVRN' columns\n",
    "DATA = DATA.drop(['ECIWAG', 'EMVELECTGOVRN'], axis=1)\n",
    "\n",
    "# Reset index and rename to 'Date'\n",
    "DATA.reset_index(inplace=True)\n",
    "DATA = DATA.rename(columns={'index': 'Date'})  # Ensure 'Date' column is correctly renamed\n",
    "\n",
    "print(DATA.columns)  # Check if 'Date' is now a column\n",
    "\n",
    "# Export the modified dataset to CSV\n",
    "DATA.to_csv('INFO6105_FeatureMart_interpolated_2019.csv', index=True)  # Save without the index"
   ]
  },
  {
   "cell_type": "code",
   "execution_count": 21,
   "id": "01247819-7831-4db3-8e1f-5ca8d22650a9",
   "metadata": {
    "tags": []
   },
   "outputs": [
    {
     "name": "stdout",
     "output_type": "stream",
     "text": [
      "Merged dataset with technical indicators saved as 'INFO6105_FeatureMart_with_meta_indicators.csv'.\n"
     ]
    }
   ],
   "source": [
    "import pandas as pd\n",
    "\n",
    "# Step 1: Load the FeatureMart dataset\n",
    "featuremart_data = pd.read_csv('INFO6105_FeatureMart_interpolated_2019.csv', parse_dates=['Date'])\n",
    "featuremart_data.set_index('Date', inplace=True)\n",
    "\n",
    "# Step 2: Load the META stock data with technical indicators\n",
    "meta_data = pd.read_csv('META_with_technical_indicators.csv', parse_dates=['Date'])\n",
    "meta_data.set_index('Date', inplace=True)\n",
    "\n",
    "# Step 3: Merge the two datasets on the 'Date' column\n",
    "# Make sure the date columns are of the same type and use an inner join to merge\n",
    "merged_data = pd.merge(featuremart_data, meta_data[['RSI', 'Volatility', 'SMA20', 'SMA50', 'OBV', 'Kalman', 'log_return']],\n",
    "                       left_index=True, right_index=True, how='inner')\n",
    "\n",
    "# Step 4: Drop the 'Unnamed: 0' column if it exists\n",
    "if 'Unnamed: 0' in merged_data.columns:\n",
    "    merged_data = merged_data.drop(columns=['Unnamed: 0'])\n",
    "\n",
    "# Step 5: Save the merged dataset to a new CSV file\n",
    "merged_data.reset_index(inplace=True)\n",
    "merged_data.to_csv('INFO6105_FeatureMart_with_meta_indicators.csv', index=False)\n",
    "\n",
    "print(\"Merged dataset with technical indicators saved as 'INFO6105_FeatureMart_with_meta_indicators.csv'.\")"
   ]
  },
  {
   "cell_type": "code",
   "execution_count": 22,
   "id": "2f31ca7d-198c-447c-bb8d-6aa4d2df40b2",
   "metadata": {},
   "outputs": [],
   "source": [
    "# Feature Selection"
   ]
  },
  {
   "cell_type": "code",
   "execution_count": 23,
   "id": "ebb88125-db3a-4569-ba1a-9658c06bbb2a",
   "metadata": {
    "tags": []
   },
   "outputs": [
    {
     "name": "stdout",
     "output_type": "stream",
     "text": [
      "        Date  Mkt-RF   SMB   HML   RMW   CMA     RF  ADS_Index    SP500  \\\n",
      "0 2019-03-14   -0.10 -0.38  0.31 -0.15 -0.10  0.009  -0.367425  2808.48   \n",
      "1 2019-03-15    0.48 -0.24 -0.25 -0.03 -0.19  0.009  -0.363209  2822.48   \n",
      "2 2019-03-18    0.46  0.23  0.45 -0.08 -0.07  0.009  -0.358272  2832.94   \n",
      "3 2019-03-19   -0.09 -0.47 -0.91  0.01 -0.05  0.009  -0.358962  2832.57   \n",
      "4 2019-03-20   -0.39 -0.23 -1.04 -0.17 -0.23  0.009  -0.360791  2824.23   \n",
      "\n",
      "   T10Y3M  ...  DHHNGSP  EMVELECTGOVRN_interp  ECIWAG_interp        RSI  \\\n",
      "0    0.18  ...     2.95              1.317808            NaN  59.853341   \n",
      "1    0.14  ...     2.95              1.299110            NaN  51.454295   \n",
      "2    0.16  ...     2.90              1.239610            NaN  42.924012   \n",
      "3    0.15  ...     2.92              1.221288            NaN  44.888340   \n",
      "4    0.06  ...     2.86              1.204119            NaN  51.245656   \n",
      "\n",
      "   Volatility       SMA20       SMA50        OBV      Kalman  log_return  \n",
      "0   17.461011  166.295998  157.700399  212812500  170.873247   -0.018630  \n",
      "1   17.332022  166.397498  158.306400  175677100  167.205322   -0.024931  \n",
      "2   17.781730  166.295998  158.880999  138152900  162.156603   -0.033760  \n",
      "3   17.922018  166.259999  159.353400  163764400  161.716897    0.006832  \n",
      "4   17.619672  166.403999  159.901200  183975900  164.507694    0.023670  \n",
      "\n",
      "[5 rows x 38 columns]\n",
      "Index(['Date', 'Mkt-RF', 'SMB', 'HML', 'RMW', 'CMA', 'RF', 'ADS_Index',\n",
      "       'SP500', 'T10Y3M', 'DGS10', 'OBMMIJUMBO30YF', 'DEXUSEU', 'DEXJPUS',\n",
      "       'DEXUSUK', 'CBBTCUSD', 'CBETHUSD', 'T10YIE', 'DCOILBRENTEU', 'VIXCLS',\n",
      "       'DAAA', 'DBAA', 'AMERIBOR', 'T5YIE', 'BAMLH0A0HYM2', 'BAMLH0A0HYM2EY',\n",
      "       'DGS1', 'DCOILWTICO', 'DHHNGSP', 'EMVELECTGOVRN_interp',\n",
      "       'ECIWAG_interp', 'RSI', 'Volatility', 'SMA20', 'SMA50', 'OBV', 'Kalman',\n",
      "       'log_return'],\n",
      "      dtype='object')\n"
     ]
    }
   ],
   "source": [
    "print(merged_data.head())\n",
    "print(merged_data.columns)"
   ]
  },
  {
   "cell_type": "code",
   "execution_count": 24,
   "id": "b51c6789-5421-460b-b775-29ed8ecc1e1c",
   "metadata": {},
   "outputs": [
    {
     "name": "stdout",
     "output_type": "stream",
     "text": [
      "            Mkt-RF          SMB          HML          RMW          CMA  \\\n",
      "count  1377.000000  1377.000000  1377.000000  1377.000000  1377.000000   \n",
      "mean      0.054604    -0.010610    -0.001024     0.028402     0.002840   \n",
      "std       1.335829     0.800036     1.100418     0.623329     0.550605   \n",
      "min     -12.000000    -4.550000    -4.970000    -2.180000    -2.740000   \n",
      "25%      -0.520000    -0.500000    -0.610000    -0.360000    -0.300000   \n",
      "50%       0.070000    -0.030000    -0.040000     0.020000    -0.020000   \n",
      "75%       0.730000     0.430000     0.590000     0.400000     0.320000   \n",
      "max       9.340000     5.720000     6.730000     4.210000     2.520000   \n",
      "\n",
      "                RF    ADS_Index        SP500       T10Y3M        DGS10  ...  \\\n",
      "count  1377.000000  1377.000000  1377.000000  1368.000000  1368.000000  ...   \n",
      "mean      0.008585    -0.269682  3972.511924     0.121133     2.501184  ...   \n",
      "std       0.008477     3.853005   741.854724     1.110217     1.300104  ...   \n",
      "min       0.000000   -26.506100  2237.400000    -1.890000     0.520000  ...   \n",
      "25%       0.000000    -0.360954  3316.810000    -0.990000     1.480000  ...   \n",
      "50%       0.007000    -0.058160  4048.420000     0.190000     2.090000  ...   \n",
      "75%       0.018000     0.281085  4461.900000     1.160000     3.802500  ...   \n",
      "max       0.022000     9.437050  5667.200000     2.270000     4.980000  ...   \n",
      "\n",
      "           DHHNGSP  EMVELECTGOVRN_interp  ECIWAG_interp          RSI  \\\n",
      "count  1371.000000           1356.000000    1322.000000  1377.000000   \n",
      "mean      3.339088              0.966263     151.565383    53.925740   \n",
      "std       1.946113              0.889951      10.039987    12.103410   \n",
      "min       1.250000             -0.230207     136.800000    21.934202   \n",
      "25%       2.170000              0.302652     141.842477    46.206114   \n",
      "50%       2.600000              0.758422     150.778462    53.846804   \n",
      "75%       3.930000              1.409322     160.675789    62.746359   \n",
      "max      23.860000              4.136632     168.900000    86.475947   \n",
      "\n",
      "        Volatility        SMA20        SMA50           OBV       Kalman  \\\n",
      "count  1377.000000  1377.000000  1377.000000  1.377000e+03  1377.000000   \n",
      "mean     40.010091   265.474414   261.796710  7.490059e+08   267.843621   \n",
      "std      25.177152    99.652473    96.041146  3.763552e+08   102.144256   \n",
      "min       7.681811   103.843001   112.808201 -2.280727e+08    89.609077   \n",
      "25%      24.838451   186.947000   186.374800  3.938924e+08   188.503551   \n",
      "50%      34.606589   252.854000   250.110200  9.083949e+08   253.449393   \n",
      "75%      46.657723   327.688501   318.782199  1.080259e+09   326.821756   \n",
      "max     170.241850   518.488499   504.544999  1.314441e+09   534.591211   \n",
      "\n",
      "        log_return  \n",
      "count  1377.000000  \n",
      "mean      0.000800  \n",
      "std       0.027738  \n",
      "min      -0.306391  \n",
      "25%      -0.011523  \n",
      "50%       0.001138  \n",
      "75%       0.014210  \n",
      "max       0.209307  \n",
      "\n",
      "[8 rows x 37 columns]\n",
      "            Mkt-RF   SMB   HML   RMW   CMA     RF  ADS_Index    SP500  T10Y3M  \\\n",
      "Date                                                                            \n",
      "2019-03-14   -0.10 -0.38  0.31 -0.15 -0.10  0.009  -0.367425  2808.48    0.18   \n",
      "2019-03-15    0.48 -0.24 -0.25 -0.03 -0.19  0.009  -0.363209  2822.48    0.14   \n",
      "2019-03-18    0.46  0.23  0.45 -0.08 -0.07  0.009  -0.358272  2832.94    0.16   \n",
      "2019-03-19   -0.09 -0.47 -0.91  0.01 -0.05  0.009  -0.358962  2832.57    0.15   \n",
      "2019-03-20   -0.39 -0.23 -1.04 -0.17 -0.23  0.009  -0.360791  2824.23    0.06   \n",
      "\n",
      "            DGS10  ...  DHHNGSP  EMVELECTGOVRN_interp  ECIWAG_interp  \\\n",
      "Date               ...                                                 \n",
      "2019-03-14   2.63  ...     2.95              1.317808            NaN   \n",
      "2019-03-15   2.59  ...     2.95              1.299110            NaN   \n",
      "2019-03-18   2.60  ...     2.90              1.239610            NaN   \n",
      "2019-03-19   2.61  ...     2.92              1.221288            NaN   \n",
      "2019-03-20   2.54  ...     2.86              1.204119            NaN   \n",
      "\n",
      "                  RSI  Volatility       SMA20       SMA50        OBV  \\\n",
      "Date                                                                   \n",
      "2019-03-14  59.853341   17.461011  166.295998  157.700399  212812500   \n",
      "2019-03-15  51.454295   17.332022  166.397498  158.306400  175677100   \n",
      "2019-03-18  42.924012   17.781730  166.295998  158.880999  138152900   \n",
      "2019-03-19  44.888340   17.922018  166.259999  159.353400  163764400   \n",
      "2019-03-20  51.245656   17.619672  166.403999  159.901200  183975900   \n",
      "\n",
      "                Kalman  log_return  \n",
      "Date                                \n",
      "2019-03-14  170.873247   -0.018630  \n",
      "2019-03-15  167.205322   -0.024931  \n",
      "2019-03-18  162.156603   -0.033760  \n",
      "2019-03-19  161.716897    0.006832  \n",
      "2019-03-20  164.507694    0.023670  \n",
      "\n",
      "[5 rows x 37 columns]\n",
      "            Mkt-RF   SMB   HML   RMW   CMA     RF  ADS_Index    SP500  T10Y3M  \\\n",
      "Date                                                                            \n",
      "2020-01-02    0.86 -0.97 -0.33  0.24 -0.22  0.006  -0.291513  3257.85    0.34   \n",
      "2020-01-03   -0.67  0.30  0.00 -0.13 -0.11  0.006  -0.279830  3234.85    0.28   \n",
      "2020-01-06    0.36 -0.21 -0.55 -0.17 -0.26  0.006  -0.245228  3246.28    0.25   \n",
      "2020-01-07   -0.19 -0.03 -0.25 -0.13 -0.24  0.006  -0.234188  3237.18    0.29   \n",
      "2020-01-08    0.47 -0.16 -0.66 -0.16 -0.18  0.006  -0.223434  3253.05    0.33   \n",
      "\n",
      "            DGS10  ...  DHHNGSP  EMVELECTGOVRN_interp  ECIWAG_interp  \\\n",
      "Date               ...                                                 \n",
      "2020-01-02   1.88  ...     2.05              1.564121     139.910283   \n",
      "2020-01-03   1.80  ...     2.06              1.556173     139.921196   \n",
      "2020-01-06   1.81  ...     2.10              1.532461     139.953797   \n",
      "2020-01-07   1.83  ...     2.17              1.524601     139.964618   \n",
      "2020-01-08   1.87  ...     2.09              1.516763     139.975416   \n",
      "\n",
      "                  RSI  Volatility       SMA20       SMA50        OBV  \\\n",
      "Date                                                                   \n",
      "2020-01-02  65.421149   16.553662  202.612499  197.330199  357936600   \n",
      "2020-01-03  62.680633   16.947766  203.110499  197.856799  346748200   \n",
      "2020-01-06  67.820465   18.466252  203.772499  198.385800  363807100   \n",
      "2020-01-07  68.369576   19.957690  204.372999  198.919399  378719500   \n",
      "2020-01-08  70.882207   21.848796  205.066999  199.465999  392194500   \n",
      "\n",
      "                Kalman  log_return  \n",
      "Date                                \n",
      "2020-01-02  208.647303    0.021831  \n",
      "2020-01-03  208.664315   -0.005305  \n",
      "2020-01-06  211.614464    0.018658  \n",
      "2020-01-07  212.698019    0.002161  \n",
      "2020-01-08  214.588468    0.010087  \n",
      "\n",
      "[5 rows x 37 columns]\n",
      "Index(['Mkt-RF', 'SMB', 'HML', 'RMW', 'CMA', 'RF', 'ADS_Index', 'SP500',\n",
      "       'T10Y3M', 'DGS10', 'OBMMIJUMBO30YF', 'DEXUSEU', 'DEXJPUS', 'DEXUSUK',\n",
      "       'CBBTCUSD', 'CBETHUSD', 'T10YIE', 'DCOILBRENTEU', 'VIXCLS', 'DAAA',\n",
      "       'DBAA', 'AMERIBOR', 'T5YIE', 'BAMLH0A0HYM2', 'BAMLH0A0HYM2EY', 'DGS1',\n",
      "       'DCOILWTICO', 'DHHNGSP', 'EMVELECTGOVRN_interp', 'ECIWAG_interp', 'RSI',\n",
      "       'Volatility', 'SMA20', 'SMA50', 'OBV', 'Kalman', 'log_return'],\n",
      "      dtype='object')\n"
     ]
    }
   ],
   "source": [
    "import pandas as pd\n",
    "from datetime import datetime\n",
    "\n",
    "# Load the data, with the 'Date' column already set as the index\n",
    "merged_data = pd.read_csv('INFO6105_FeatureMart_with_meta_indicators.csv', index_col=[0], parse_dates=True)\n",
    "\n",
    "# Display summary statistics\n",
    "print(merged_data.describe())\n",
    "\n",
    "# Check if 'Date' is indeed the index\n",
    "print(merged_data.head())  # This will show the first few rows to confirm the index\n",
    "\n",
    "# Filter the data to include only rows where the index (Date) is greater than or equal to start_date\n",
    "start_date = datetime(2020, 1, 1)\n",
    "\n",
    "# Use the index (which is 'Date') for filtering\n",
    "merged_data = merged_data[merged_data.index >= start_date]\n",
    "\n",
    "# Check the first few rows and column names to confirm the filtering\n",
    "print(merged_data.head())\n",
    "print(merged_data.columns)"
   ]
  },
  {
   "cell_type": "code",
   "execution_count": 25,
   "id": "dd9f121f-837d-4414-a877-42e6e2bff15f",
   "metadata": {},
   "outputs": [
    {
     "name": "stderr",
     "output_type": "stream",
     "text": [
      "[*********************100%***********************]  1 of 1 completed"
     ]
    },
    {
     "name": "stdout",
     "output_type": "stream",
     "text": [
      "                                 OLS Regression Results                                \n",
      "=======================================================================================\n",
      "Dep. Variable:                      y   R-squared (uncentered):                   0.488\n",
      "Model:                            OLS   Adj. R-squared (uncentered):              0.483\n",
      "Method:                 Least Squares   F-statistic:                              100.8\n",
      "Date:                Tue, 10 Dec 2024   Prob (F-statistic):                   1.85e-160\n",
      "Time:                        16:41:08   Log-Likelihood:                          2872.1\n",
      "No. Observations:                1174   AIC:                                     -5722.\n",
      "Df Residuals:                    1163   BIC:                                     -5666.\n",
      "Df Model:                          11                                                  \n",
      "Covariance Type:            nonrobust                                                  \n",
      "==============================================================================\n",
      "                 coef    std err          t      P>|t|      [0.025      0.975]\n",
      "------------------------------------------------------------------------------\n",
      "Mkt-RF         0.0115      0.000     23.813      0.000       0.011       0.012\n",
      "HML           -0.0047      0.001     -6.712      0.000      -0.006      -0.003\n",
      "RMW            0.0034      0.001      3.246      0.001       0.001       0.005\n",
      "CMA           -0.0075      0.001     -5.274      0.000      -0.010      -0.005\n",
      "RF             0.1591      0.203      0.782      0.434      -0.240       0.558\n",
      "T10Y3M         0.0015      0.002      0.973      0.331      -0.002       0.005\n",
      "VIXCLS        -0.0002   8.31e-05     -2.127      0.034      -0.000   -1.37e-05\n",
      "RSI            0.0002   5.92e-05      2.935      0.003    5.76e-05       0.000\n",
      "SMA50      -6.825e-05   3.81e-05     -1.793      0.073      -0.000    6.42e-06\n",
      "OBV         1.131e-12   4.28e-12      0.264      0.792   -7.27e-12    9.53e-12\n",
      "Kalman      3.996e-05   3.92e-05      1.020      0.308   -3.69e-05       0.000\n",
      "==============================================================================\n",
      "Omnibus:                      774.823   Durbin-Watson:                   1.918\n",
      "Prob(Omnibus):                  0.000   Jarque-Bera (JB):            93896.657\n",
      "Skew:                          -2.121   Prob(JB):                         0.00\n",
      "Kurtosis:                      46.606   Cond. No.                     2.99e+11\n",
      "==============================================================================\n",
      "\n",
      "Notes:\n",
      "[1] R² is computed without centering (uncentered) since the model does not contain a constant.\n",
      "[2] Standard Errors assume that the covariance matrix of the errors is correctly specified.\n",
      "[3] The condition number is large, 2.99e+11. This might indicate that there are\n",
      "strong multicollinearity or other numerical problems.\n",
      "Benchmark: corr (Y, Y_pred) = 0.6984706013902622\n",
      "Hard Thresholding selected 11 features:  ['Mkt-RF' 'HML' 'RMW' 'CMA' 'RF' 'T10Y3M' 'VIXCLS' 'RSI' 'SMA50' 'OBV'\n",
      " 'Kalman']\n"
     ]
    },
    {
     "name": "stderr",
     "output_type": "stream",
     "text": [
      "\n"
     ]
    }
   ],
   "source": [
    "import pandas as pd\n",
    "import numpy as np\n",
    "import statsmodels.api as sm\n",
    "import yfinance as yf\n",
    "import matplotlib.pyplot as plt\n",
    "from datetime import datetime\n",
    "from scipy import stats as ss\n",
    "\n",
    "# Figure configuration\n",
    "plt.rcParams['figure.figsize'] = (16, 6)\n",
    "\n",
    "# Define date range\n",
    "start_date = datetime(2020, 1, 1)\n",
    "end_date = datetime(2024, 8, 31)\n",
    "\n",
    "# Load the dataset\n",
    "DATA = pd.read_csv('INFO6105_FeatureMart_with_meta_indicators.csv', index_col=[-1])\n",
    "DATA['Date'] = pd.to_datetime(DATA['Date'])\n",
    "\n",
    "# Download the stock data (META)\n",
    "STOCK = yf.download('META', start_date, end_date)\n",
    "\n",
    "# Prepare the independent variables (X)\n",
    "X = DATA.set_index('Date').fillna(method='bfill')\n",
    "\n",
    "# Prepare the dependent variable (y) as log returns\n",
    "y = np.diff(np.log(STOCK['Adj Close'].values))\n",
    "y = np.append(y[0], y)  # Add the first value to maintain the same length\n",
    "y = pd.Series(y, index=STOCK.index)  # Ensure y has the same index as STOCK\n",
    "\n",
    "# Add constant to X for OLS\n",
    "X = sm.add_constant(X)\n",
    "X = X.fillna(0)\n",
    "\n",
    "# Ensure X and y share the same index\n",
    "X = X.loc[y.index]  # Align X and y to have the same index\n",
    "\n",
    "# Step 1: OLS regression to select features based on p-value (hard thresholding)\n",
    "benchmark_prep = sm.OLS(y, X).fit()\n",
    "benchmark_prep.summary()\n",
    "\n",
    "# Select features based on the threshold |t| >= 1.96 (p-value < 0.05)\n",
    "benchmark_select = X.columns[np.abs(benchmark_prep.tvalues) >= 1.96]\n",
    "x = X[benchmark_select]\n",
    "\n",
    "# Step 2: Regress y on the selected features\n",
    "benchmark = sm.OLS(y, x).fit()\n",
    "print(benchmark.summary())\n",
    "\n",
    "# Predict and compute correlation between predicted and actual values\n",
    "y_hat_benchmark1 = benchmark.predict(x)\n",
    "corr_benchmark1 = ss.pearsonr(y_hat_benchmark1, y)[0]\n",
    "print('Benchmark: corr (Y, Y_pred) = ' + str(corr_benchmark1))\n",
    "\n",
    "# Print the number of features selected\n",
    "print('Hard Thresholding selected ' + str(len(benchmark_select)) + ' features: ', benchmark_select.values)"
   ]
  },
  {
   "cell_type": "code",
   "execution_count": 26,
   "id": "8bc1a832-af96-4c98-923f-73417f630c52",
   "metadata": {},
   "outputs": [
    {
     "name": "stdout",
     "output_type": "stream",
     "text": [
      "                            OLS Regression Results                            \n",
      "==============================================================================\n",
      "Dep. Variable:                      y   R-squared:                       0.516\n",
      "Model:                            OLS   Adj. R-squared:                  0.509\n",
      "Method:                 Least Squares   F-statistic:                     68.44\n",
      "Date:                Tue, 10 Dec 2024   Prob (F-statistic):          1.46e-167\n",
      "Time:                        16:41:08   Log-Likelihood:                 2905.6\n",
      "No. Observations:                1174   AIC:                            -5773.\n",
      "Df Residuals:                    1155   BIC:                            -5677.\n",
      "Df Model:                          18                                         \n",
      "Covariance Type:            nonrobust                                         \n",
      "==================================================================================\n",
      "                     coef    std err          t      P>|t|      [0.025      0.975]\n",
      "----------------------------------------------------------------------------------\n",
      "const              0.0402      0.040      1.013      0.311      -0.038       0.118\n",
      "Mkt-RF             0.0113      0.000     23.766      0.000       0.010       0.012\n",
      "SMB               -0.0012      0.001     -1.309      0.191      -0.003       0.001\n",
      "HML               -0.0039      0.001     -4.923      0.000      -0.005      -0.002\n",
      "RMW                0.0025      0.001      2.214      0.027       0.000       0.005\n",
      "CMA               -0.0078      0.001     -5.550      0.000      -0.011      -0.005\n",
      "RF                 2.3095      0.639      3.615      0.000       1.056       3.563\n",
      "T10Y3M             0.0202      0.007      2.976      0.003       0.007       0.033\n",
      "DGS10             -0.0225      0.012     -1.874      0.061      -0.046       0.001\n",
      "OBMMIJUMBO30YF     0.0022      0.004      0.504      0.614      -0.006       0.011\n",
      "DEXUSEU           -0.0049      0.039     -0.127      0.899      -0.082       0.072\n",
      "DEXUSUK           -0.0668      0.034     -1.946      0.052      -0.134       0.001\n",
      "T10YIE             0.0096      0.005      2.052      0.040       0.000       0.019\n",
      "DBAA               0.0038      0.008      0.499      0.618      -0.011       0.019\n",
      "AMERIBOR           0.0055      0.004      1.236      0.217      -0.003       0.014\n",
      "BAMLH0A0HYM2       0.0029      0.014      0.213      0.831      -0.024       0.030\n",
      "BAMLH0A0HYM2EY    -0.0049      0.013     -0.375      0.708      -0.031       0.021\n",
      "DGS1               0.0056      0.007      0.758      0.449      -0.009       0.020\n",
      "RSI                0.0006   6.05e-05      9.347      0.000       0.000       0.001\n",
      "==============================================================================\n",
      "Omnibus:                      756.940   Durbin-Watson:                   1.914\n",
      "Prob(Omnibus):                  0.000   Jarque-Bera (JB):            83859.159\n",
      "Skew:                          -2.065   Prob(JB):                         0.00\n",
      "Kurtosis:                      44.198   Cond. No.                     6.01e+04\n",
      "==============================================================================\n",
      "\n",
      "Notes:\n",
      "[1] Standard Errors assume that the covariance matrix of the errors is correctly specified.\n",
      "[2] The condition number is large, 6.01e+04. This might indicate that there are\n",
      "strong multicollinearity or other numerical problems.\n",
      "model 2 Ridge Regression: corr (Y, Y_pred) = 0.718407597171701\n",
      "Ridge Regression selected 19 features:  ['const' 'Mkt-RF' 'SMB' 'HML' 'RMW' 'CMA' 'RF' 'T10Y3M' 'DGS10'\n",
      " 'OBMMIJUMBO30YF' 'DEXUSEU' 'DEXUSUK' 'T10YIE' 'DBAA' 'AMERIBOR'\n",
      " 'BAMLH0A0HYM2' 'BAMLH0A0HYM2EY' 'DGS1' 'RSI']\n"
     ]
    },
    {
     "name": "stderr",
     "output_type": "stream",
     "text": [
      "/Users/natnichalerd/anaconda3/lib/python3.11/site-packages/sklearn/linear_model/_ridge.py:211: LinAlgWarning: Ill-conditioned matrix (rcond=5.11377e-22): result may not be accurate.\n",
      "  return linalg.solve(A, Xy, assume_a=\"pos\", overwrite_a=True).T\n"
     ]
    }
   ],
   "source": [
    "# Ridge regression\n",
    "# Motivation: the model sets the objective function to be the \n",
    "# sum of squared residuals from OLS + penalty function \n",
    "# that penalizes squared values of beta. A minimization process squeezes \n",
    "# the small beta values close to 0. \n",
    "# a represents the obj function's sensitivity to the penalty term   \n",
    "# Steo 1. run Ridge Regression and obtain coefficients\n",
    "# Step 2. remove features with coefficients close to 0 and run OLS \n",
    "a = 0.5\n",
    "model2_prep = linear_model.Ridge(alpha=a, fit_intercept=False).fit(X, y)\n",
    "model2_select = X.columns[np.abs(model2_prep.coef_)>=0.001]\n",
    "x = X[model2_select]\n",
    "model2 = sm.OLS(y,x).fit()\n",
    "print(model2.summary())\n",
    "y_pred_model2 = model2.predict(x)\n",
    "corr_model2 = ss.pearsonr(y_pred_model2, y)[0]\n",
    "print('model 2 Ridge Regression: corr (Y, Y_pred) = '+str(corr_model2))\n",
    "print('Ridge Regression selected ' +str(len(model2_select)) +' features: ', model2_select.values)"
   ]
  },
  {
   "cell_type": "code",
   "execution_count": 27,
   "id": "ed4562c4-2175-45ad-a632-fee1516ae09e",
   "metadata": {},
   "outputs": [
    {
     "name": "stdout",
     "output_type": "stream",
     "text": [
      "                                 OLS Regression Results                                \n",
      "=======================================================================================\n",
      "Dep. Variable:                      y   R-squared (uncentered):                   0.006\n",
      "Model:                            OLS   Adj. R-squared (uncentered):              0.004\n",
      "Method:                 Least Squares   F-statistic:                              2.493\n",
      "Date:                Tue, 10 Dec 2024   Prob (F-statistic):                      0.0586\n",
      "Time:                        16:41:08   Log-Likelihood:                          2482.9\n",
      "No. Observations:                1174   AIC:                                     -4960.\n",
      "Df Residuals:                    1171   BIC:                                     -4945.\n",
      "Df Model:                           3                                                  \n",
      "Covariance Type:            nonrobust                                                  \n",
      "==============================================================================\n",
      "                 coef    std err          t      P>|t|      [0.025      0.975]\n",
      "------------------------------------------------------------------------------\n",
      "SP500      -8.355e-07   7.48e-07     -1.118      0.264    -2.3e-06    6.31e-07\n",
      "CBBTCUSD   -8.472e-08   6.67e-08     -1.269      0.205   -2.16e-07    4.62e-08\n",
      "OBV         8.553e-12    3.4e-12      2.513      0.012    1.87e-12    1.52e-11\n",
      "==============================================================================\n",
      "Omnibus:                      478.929   Durbin-Watson:                   2.095\n",
      "Prob(Omnibus):                  0.000   Jarque-Bera (JB):            23449.469\n",
      "Skew:                          -1.112   Prob(JB):                         0.00\n",
      "Kurtosis:                      24.781   Cond. No.                     7.92e+05\n",
      "==============================================================================\n",
      "\n",
      "Notes:\n",
      "[1] R² is computed without centering (uncentered) since the model does not contain a constant.\n",
      "[2] Standard Errors assume that the covariance matrix of the errors is correctly specified.\n",
      "[3] The condition number is large, 7.92e+05. This might indicate that there are\n",
      "strong multicollinearity or other numerical problems.\n",
      "model 3 LASSO: corr (Y, Y_pred) = 0.07532492979078373\n",
      "LASSO selected 3 features:  ['SP500' 'CBBTCUSD' 'OBV']\n"
     ]
    }
   ],
   "source": [
    "# LASSO\n",
    "a = 0.5\n",
    "model3_prep = linear_model.Lasso(alpha=a, fit_intercept=False).fit(X, y)\n",
    "model3_select = X.columns[np.abs(model3_prep.coef_)!=0.0]\n",
    "x = X[model3_select]\n",
    "model3 = sm.OLS(y,x).fit()\n",
    "print(model3.summary())\n",
    "y_pred_model3 = model3.predict(x)\n",
    "corr_model3 = ss.pearsonr(y_pred_model3, y)[0]\n",
    "print('model 3 LASSO: corr (Y, Y_pred) = '+str(corr_model3))\n",
    "print('LASSO selected ' +str(len(model3_select)) +' features: ', model3_select.values)"
   ]
  },
  {
   "cell_type": "code",
   "execution_count": 28,
   "id": "204c797f-7522-4398-b4ac-2a4bb722ee94",
   "metadata": {},
   "outputs": [
    {
     "name": "stdout",
     "output_type": "stream",
     "text": [
      "                                 OLS Regression Results                                \n",
      "=======================================================================================\n",
      "Dep. Variable:                      y   R-squared (uncentered):                   0.006\n",
      "Model:                            OLS   Adj. R-squared (uncentered):              0.004\n",
      "Method:                 Least Squares   F-statistic:                              2.493\n",
      "Date:                Tue, 10 Dec 2024   Prob (F-statistic):                      0.0586\n",
      "Time:                        16:41:08   Log-Likelihood:                          2482.9\n",
      "No. Observations:                1174   AIC:                                     -4960.\n",
      "Df Residuals:                    1171   BIC:                                     -4945.\n",
      "Df Model:                           3                                                  \n",
      "Covariance Type:            nonrobust                                                  \n",
      "==============================================================================\n",
      "                 coef    std err          t      P>|t|      [0.025      0.975]\n",
      "------------------------------------------------------------------------------\n",
      "SP500      -8.355e-07   7.48e-07     -1.118      0.264    -2.3e-06    6.31e-07\n",
      "CBBTCUSD   -8.472e-08   6.67e-08     -1.269      0.205   -2.16e-07    4.62e-08\n",
      "OBV         8.553e-12    3.4e-12      2.513      0.012    1.87e-12    1.52e-11\n",
      "==============================================================================\n",
      "Omnibus:                      478.929   Durbin-Watson:                   2.095\n",
      "Prob(Omnibus):                  0.000   Jarque-Bera (JB):            23449.469\n",
      "Skew:                          -1.112   Prob(JB):                         0.00\n",
      "Kurtosis:                      24.781   Cond. No.                     7.92e+05\n",
      "==============================================================================\n",
      "\n",
      "Notes:\n",
      "[1] R² is computed without centering (uncentered) since the model does not contain a constant.\n",
      "[2] Standard Errors assume that the covariance matrix of the errors is correctly specified.\n",
      "[3] The condition number is large, 7.92e+05. This might indicate that there are\n",
      "strong multicollinearity or other numerical problems.\n",
      "model 4 Elastic Net: corr (Y, Y_pred) = 0.07532492979078373\n",
      "ElasticNet selected 3 features:  ['SP500' 'CBBTCUSD' 'OBV']\n"
     ]
    }
   ],
   "source": [
    "# Elastic net\n",
    "a = 0.5\n",
    "model4_prep = linear_model.ElasticNet(alpha=a, fit_intercept=False).fit(X, y)\n",
    "model4_select = X.columns[np.abs(model4_prep.coef_)!=0.0]\n",
    "x = X[model4_select]\n",
    "model4 = sm.OLS(y,x).fit()\n",
    "print(model4.summary())\n",
    "y_pred_model4 = model4.predict(x)\n",
    "corr_model4 = ss.pearsonr(y_pred_model4, y)[0]\n",
    "print('model 4 Elastic Net: corr (Y, Y_pred) = '+str(corr_model3))\n",
    "print('ElasticNet selected ' +str(len(model4_select)) +' features: ', model4_select.values)"
   ]
  },
  {
   "cell_type": "code",
   "execution_count": 29,
   "id": "5cef3c1e-f54f-4d73-acaa-5ec38381ce85",
   "metadata": {},
   "outputs": [
    {
     "name": "stdout",
     "output_type": "stream",
     "text": [
      "                                 OLS Regression Results                                \n",
      "=======================================================================================\n",
      "Dep. Variable:                      y   R-squared (uncentered):                   0.443\n",
      "Model:                            OLS   Adj. R-squared (uncentered):              0.438\n",
      "Method:                 Least Squares   F-statistic:                              84.16\n",
      "Date:                Tue, 10 Dec 2024   Prob (F-statistic):                   1.83e-139\n",
      "Time:                        16:41:08   Log-Likelihood:                          2822.9\n",
      "No. Observations:                1174   AIC:                                     -5624.\n",
      "Df Residuals:                    1163   BIC:                                     -5568.\n",
      "Df Model:                          11                                                  \n",
      "Covariance Type:            nonrobust                                                  \n",
      "========================================================================================\n",
      "                           coef    std err          t      P>|t|      [0.025      0.975]\n",
      "----------------------------------------------------------------------------------------\n",
      "Mkt-RF                   0.0121      0.000     25.296      0.000       0.011       0.013\n",
      "RMW                     -0.0019      0.001     -1.921      0.055      -0.004    4.04e-05\n",
      "DEXUSEU                 -0.0100      0.009     -1.057      0.291      -0.029       0.009\n",
      "DEXJPUS                 -0.0003      0.000     -2.019      0.044      -0.001   -7.72e-06\n",
      "T10YIE                   0.0056      0.003      1.631      0.103      -0.001       0.012\n",
      "DAAA                     0.0264      0.008      3.439      0.001       0.011       0.042\n",
      "DBAA                    -0.0329      0.009     -3.543      0.000      -0.051      -0.015\n",
      "BAMLH0A0HYM2EY           0.0080      0.002      3.605      0.000       0.004       0.012\n",
      "DHHNGSP                  0.0003      0.000      0.700      0.484      -0.001       0.001\n",
      "EMVELECTGOVRN_interp     0.0009      0.001      0.913      0.361      -0.001       0.003\n",
      "RSI                      0.0006   5.98e-05     10.164      0.000       0.000       0.001\n",
      "==============================================================================\n",
      "Omnibus:                      719.448   Durbin-Watson:                   1.929\n",
      "Prob(Omnibus):                  0.000   Jarque-Bera (JB):            79178.717\n",
      "Skew:                          -1.896   Prob(JB):                         0.00\n",
      "Kurtosis:                      43.053   Cond. No.                     2.83e+03\n",
      "==============================================================================\n",
      "\n",
      "Notes:\n",
      "[1] R² is computed without centering (uncentered) since the model does not contain a constant.\n",
      "[2] Standard Errors assume that the covariance matrix of the errors is correctly specified.\n",
      "[3] The condition number is large, 2.83e+03. This might indicate that there are\n",
      "strong multicollinearity or other numerical problems.\n",
      "model 1 LARS: corr (Y, Y_pred) = 0.665452742860445\n",
      "LARS selected 11 features:  ['Mkt-RF' 'RMW' 'DEXUSEU' 'DEXJPUS' 'T10YIE' 'DAAA' 'DBAA'\n",
      " 'BAMLH0A0HYM2EY' 'DHHNGSP' 'EMVELECTGOVRN_interp' 'RSI']\n"
     ]
    }
   ],
   "source": [
    "# LARS\n",
    "# Motivation: the model adds features one by one (stepwise)\n",
    "# it selects features by looking for feature X[n+1] that has the highest \n",
    "# correlation with residuals obtained from regressing Y on all pre-selected Xs.  \n",
    "# Step 1. run Least Angle Regression (LARS) and obtain coefficients\n",
    "# Step 2. select features with non-0 coefficients alone and run OLS \n",
    "model1_prep = linear_model.Lars().fit(X, y)\n",
    "model1_select = X.columns[model1_prep.coef_>=0.001]\n",
    "x = X[model1_select]\n",
    "model1 = sm.OLS(y,x).fit()\n",
    "print(model1.summary())\n",
    "y_pred_model1 = model1.predict(x)\n",
    "corr_model1 = ss.pearsonr(y_pred_model1, y)[0]\n",
    "print('model 1 LARS: corr (Y, Y_pred) = '+str(corr_model1))\n",
    "print('LARS selected ' +str(len(model1_select)) +' features: ', model1_select.values)"
   ]
  },
  {
   "cell_type": "code",
   "execution_count": 30,
   "id": "c97b9a56-5fba-4bd3-8f59-0717d2546a73",
   "metadata": {},
   "outputs": [
    {
     "name": "stderr",
     "output_type": "stream",
     "text": [
      "[*********************100%***********************]  1 of 1 completed\n",
      "/Users/natnichalerd/anaconda3/lib/python3.11/site-packages/scipy/optimize/_minimize.py:705: OptimizeWarning: Desired error not necessarily achieved due to precision loss.\n",
      "  res = _minimize_bfgs(fun, x0, args, jac, callback, **options)\n"
     ]
    },
    {
     "name": "stdout",
     "output_type": "stream",
     "text": [
      "         Current function value: -2760.484343\n",
      "         Iterations: 2\n",
      "         Function evaluations: 137\n",
      "         Gradient evaluations: 21\n",
      "RMSE value is: 0.04912564595333356\n"
     ]
    },
    {
     "data": {
      "image/png": "[encoded data removed]",
      "text/plain": [
       "<Figure size 1600x600 with 1 Axes>"
      ]
     },
     "metadata": {},
     "output_type": "display_data"
    }
   ],
   "source": [
    "import numpy as np\n",
    "import pandas as pd\n",
    "import scipy.special as ss\n",
    "from scipy.optimize import minimize\n",
    "from pandas_datareader import DataReader\n",
    "from datetime import datetime\n",
    "import matplotlib.pyplot as plt\n",
    "import yfinance as yf\n",
    "import random\n",
    " \n",
    "random.seed(10)\n",
    " \n",
    "def garch(param, *args):\n",
    "    # Initialize Params\n",
    "    mu = param[0]\n",
    "    omega = param[1]\n",
    "    alpha = param[2]\n",
    "    beta = param[3]\n",
    "    nv = param[4]\n",
    "    GARCH_Dens, sigma2, F, v = {}, {}, {}, {} \n",
    "    # intialize values \n",
    "    sigma2[0] = np.var(Y)\n",
    "    Likelihood = 0\n",
    "    for t in range(1,T):\n",
    "        sigma2[t] = omega + alpha*((Y[t-1]-mu)**2)+beta*(sigma2[t-1])\n",
    "        if sigma2[t]<0: sigma2[t] = 1e-2\n",
    "        F[t] = Y[t] - mu-np.sqrt(sigma2[t])*np.random.standard_t(nv,1)\n",
    "        v[t] = sigma2[t]\n",
    "        GARCH_Dens[t] = np.log(ss.gamma((nv+1)/2))-np.log(np.sqrt(nv*np.pi))-\\\n",
    "                        np.log(ss.gamma(nv/2))-((nv+1)/2)*np.log(1+((F[t]**2)/v[t])/nv)       \n",
    "        Likelihood += GARCH_Dens[t]  \n",
    "    return Likelihood\n",
    " \n",
    "def garch_path(params, *args):\n",
    "    mu = params[0]\n",
    "    omega = params[1]\n",
    "    alpha = params[2]\n",
    "    beta = params[3]\n",
    "    nv = params[4]\n",
    "    sigma2, path = {}, {}\n",
    "    # initialzie volatility and path\n",
    "    sigma2[0] = np.var(Y)\n",
    "    path[0] = np.array([Y[0]])\n",
    "    for t in range(1,T):\n",
    "        sigma2[t] = omega + alpha*((Y[t-1]-mu)**2)+beta*(sigma2[t-1])\n",
    "        if sigma2[t]<0: sigma2[t] = 1e-2\n",
    "        path[t] = mu+np.sqrt(sigma2[t])*np.random.standard_t(nv,1)  \n",
    "    return path, sigma2    \n",
    " \n",
    "start_date = datetime(2020,1,1)\n",
    "end_date = datetime(2024,8,31)\n",
    "stock_symbol = 'META'\n",
    "stock = yf.download(stock_symbol,start_date ,end_date)\n",
    "Y = np.diff(np.log(stock['Adj Close'].values))\n",
    "T = Y.shape[0]\n",
    "param0 = np.array([np.mean(Y), np.var(Y)/2500, 1.2, 0.25,  10])\n",
    "results = minimize(garch, param0, method='BFGS', tol=1e-2, options={'disp': True})\n",
    "param_star = results.x\n",
    " \n",
    "path, vol = garch_path(param_star, Y, T)\n",
    "Y_GARCH = path.values()\n",
    "timevec = np.linspace(1,T,T)\n",
    "plt.plot(timevec, Y,'b',timevec, Y_GARCH,'r')\n",
    "GARCH_prediction = list(Y_GARCH)\n",
    " \n",
    "# Calculate RMSE\n",
    "RMSE = np.sqrt(np.mean((np.array(GARCH_prediction ) - np.array(Y))**2))\n",
    "print(f'RMSE value is: {RMSE}')"
   ]
  },
  {
   "cell_type": "code",
   "execution_count": null,
   "id": "4e1a1ed5-6a76-4963-a305-c734035d1827",
   "metadata": {},
   "outputs": [],
   "source": []
  },
  {
   "cell_type": "code",
   "execution_count": null,
   "id": "049aee0b-1982-47e3-919e-1e12e2fe8c27",
   "metadata": {},
   "outputs": [],
   "source": []
  },
  {
   "cell_type": "code",
   "execution_count": null,
   "id": "d41f007e-bb82-4961-9ff8-782b296b506a",
   "metadata": {},
   "outputs": [],
   "source": []
  },
  {
   "cell_type": "code",
   "execution_count": null,
   "id": "8fcc8323-1103-4091-ba52-1ddfc283dae0",
   "metadata": {},
   "outputs": [],
   "source": []
  },
  {
   "cell_type": "code",
   "execution_count": null,
   "id": "34e666e6-42d8-4c27-8238-94437a2d6bae",
   "metadata": {},
   "outputs": [],
   "source": []
  },
  {
   "cell_type": "code",
   "execution_count": null,
   "id": "89dc5b44-2b01-4680-bebe-80a20689f7bf",
   "metadata": {},
   "outputs": [],
   "source": []
  },
  {
   "cell_type": "code",
   "execution_count": null,
   "id": "06e32f80-32d7-4a09-8edf-97e06f5a3ad1",
   "metadata": {},
   "outputs": [],
   "source": []
  },
  {
   "cell_type": "code",
   "execution_count": null,
   "id": "8fec3c61-c3e0-41b5-8a97-9a1367d02190",
   "metadata": {},
   "outputs": [],
   "source": []
  },
  {
   "cell_type": "code",
   "execution_count": null,
   "id": "233f3be5-f99c-4cc9-86cb-1ef105edc835",
   "metadata": {},
   "outputs": [],
   "source": []
  },
  {
   "cell_type": "code",
   "execution_count": null,
   "id": "9eed35d2-c86b-4b24-b56d-48b5a8c65abc",
   "metadata": {},
   "outputs": [],
   "source": []
  },
  {
   "cell_type": "code",
   "execution_count": null,
   "id": "8b692e5f-a54d-4d96-ba44-61ffa4a57089",
   "metadata": {},
   "outputs": [],
   "source": []
  },
  {
   "cell_type": "code",
   "execution_count": null,
   "id": "43e68d57-aa3c-4653-9c77-590dbfb8348e",
   "metadata": {},
   "outputs": [],
   "source": []
  },
  {
   "cell_type": "code",
   "execution_count": null,
   "id": "85da2e97-ee45-4caa-8851-5984ec2a7d56",
   "metadata": {},
   "outputs": [],
   "source": []
  },
  {
   "cell_type": "code",
   "execution_count": null,
   "id": "a72ab3ae-6e8d-4db3-b7b0-7595f9140457",
   "metadata": {},
   "outputs": [],
   "source": []
  },
  {
   "cell_type": "code",
   "execution_count": null,
   "id": "409df535-d2c6-4288-9b7d-51a7acdbc37d",
   "metadata": {},
   "outputs": [],
   "source": []
  },
  {
   "cell_type": "code",
   "execution_count": null,
   "id": "bc1be773-d14d-4752-8b71-524505fefda5",
   "metadata": {},
   "outputs": [],
   "source": []
  },
  {
   "cell_type": "code",
   "execution_count": null,
   "id": "b1d4034e-f4b1-4fd9-8eb6-d8fbcf7d317e",
   "metadata": {},
   "outputs": [],
   "source": []
  },
  {
   "cell_type": "code",
   "execution_count": null,
   "id": "3e544d77-cfb7-471e-a803-4087cd54096a",
   "metadata": {},
   "outputs": [],
   "source": []
  },
  {
   "cell_type": "code",
   "execution_count": null,
   "id": "f2412494-8630-49bd-9fb9-f6b62cedfac4",
   "metadata": {},
   "outputs": [],
   "source": []
  },
  {
   "cell_type": "code",
   "execution_count": null,
   "id": "92c9322b-acf0-4f9b-b86c-4d8986ebacfe",
   "metadata": {},
   "outputs": [],
   "source": []
  },
  {
   "cell_type": "code",
   "execution_count": null,
   "id": "17950a87-4c5f-4d68-9656-37b7fd2bef94",
   "metadata": {},
   "outputs": [],
   "source": []
  },
  {
   "cell_type": "code",
   "execution_count": null,
   "id": "cef97359-1268-4f53-b1ee-03b282159bc1",
   "metadata": {},
   "outputs": [],
   "source": []
  },
  {
   "cell_type": "code",
   "execution_count": null,
   "id": "5a1b0c02-93fe-4ae6-9869-f22d165dd821",
   "metadata": {},
   "outputs": [],
   "source": []
  },
  {
   "cell_type": "code",
   "execution_count": null,
   "id": "430ebfc4-13af-4fb7-9b0a-0eda67288ce9",
   "metadata": {},
   "outputs": [],
   "source": []
  },
  {
   "cell_type": "code",
   "execution_count": null,
   "id": "cea87246-c11c-4bf0-b749-30c8d128068a",
   "metadata": {},
   "outputs": [],
   "source": []
  },
  {
   "cell_type": "code",
   "execution_count": null,
   "id": "95be6706-094f-4c1b-85a0-eeec8bc09643",
   "metadata": {},
   "outputs": [],
   "source": []
  },
  {
   "cell_type": "code",
   "execution_count": null,
   "id": "40e92f49-88de-4f2f-9813-67dd631b2f0a",
   "metadata": {},
   "outputs": [],
   "source": []
  },
  {
   "cell_type": "code",
   "execution_count": null,
   "id": "c3bdf6d5-8ab2-4388-9477-cd505b2cae2a",
   "metadata": {},
   "outputs": [],
   "source": []
  },
  {
   "cell_type": "code",
   "execution_count": null,
   "id": "3d94abfc-f951-4988-897a-8a4b7559d14d",
   "metadata": {},
   "outputs": [],
   "source": []
  },
  {
   "cell_type": "code",
   "execution_count": null,
   "id": "3f82bb50-024e-43a0-bcf1-e5daf8515f94",
   "metadata": {},
   "outputs": [],
   "source": []
  },
  {
   "cell_type": "code",
   "execution_count": null,
   "id": "ba60ecc2-48c7-415a-99c4-f9d7f419f98d",
   "metadata": {},
   "outputs": [],
   "source": []
  },
  {
   "cell_type": "code",
   "execution_count": null,
   "id": "d8aaa704-9332-480e-ab70-6dc9f84f3685",
   "metadata": {},
   "outputs": [],
   "source": []
  },
  {
   "cell_type": "code",
   "execution_count": null,
   "id": "57f7c7a9-65f7-4373-87dc-b5be087b6ea5",
   "metadata": {},
   "outputs": [],
   "source": []
  },
  {
   "cell_type": "code",
   "execution_count": null,
   "id": "93d8ab45-b501-4703-9148-40a05caf8593",
   "metadata": {},
   "outputs": [],
   "source": []
  },
  {
   "cell_type": "code",
   "execution_count": null,
   "id": "a4d5b3e0-014b-4bd5-b8d3-3a7d0beef5e0",
   "metadata": {},
   "outputs": [],
   "source": []
  },
  {
   "cell_type": "code",
   "execution_count": null,
   "id": "b1107d88-a619-4278-9a7a-7937f7a813e5",
   "metadata": {},
   "outputs": [],
   "source": []
  },
  {
   "cell_type": "code",
   "execution_count": null,
   "id": "4fed9671-557c-4053-8fd1-9facf45265df",
   "metadata": {},
   "outputs": [],
   "source": []
  },
  {
   "cell_type": "code",
   "execution_count": null,
   "id": "b0f0a442-f5e4-4959-8333-221dd6bb4b60",
   "metadata": {},
   "outputs": [],
   "source": []
  },
  {
   "cell_type": "code",
   "execution_count": null,
   "id": "e22b6f13-851a-47a0-97f7-fbc83e195e58",
   "metadata": {},
   "outputs": [],
   "source": []
  },
  {
   "cell_type": "code",
   "execution_count": null,
   "id": "fb8c09d1-1e76-4be2-bff9-c4e0c34e4181",
   "metadata": {},
   "outputs": [],
   "source": []
  },
  {
   "cell_type": "code",
   "execution_count": null,
   "id": "5072c8a3-4500-43fe-ae1a-5d3252a384f6",
   "metadata": {},
   "outputs": [],
   "source": []
  }
 ],
 "metadata": {
  "kernelspec": {
   "display_name": "Python 3 (ipykernel)",
   "language": "python",
   "name": "python3"
  },
  "language_info": {
   "codemirror_mode": {
    "name": "ipython",
    "version": 3
   },
   "file_extension": ".py",
   "mimetype": "text/x-python",
   "name": "python",
   "nbconvert_exporter": "python",
   "pygments_lexer": "ipython3",
   "version": "3.11.5"
  }
 },
 "nbformat": 4,
 "nbformat_minor": 5
}
