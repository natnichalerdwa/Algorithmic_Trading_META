{
 "cells": [
  {
   "cell_type": "markdown",
   "id": "6b296004",
   "metadata": {
    "id": "6b296004"
   },
   "source": [
    "# Day Trade Algortithm\n",
    "## Toy Model Back-Testing"
   ]
  },
  {
   "cell_type": "code",
   "execution_count": null,
   "id": "3bcd1d0f-e6d6-4cce-905f-35827045943d",
   "metadata": {},
   "outputs": [],
   "source": []
  },
  {
   "cell_type": "code",
   "execution_count": null,
   "id": "ab76071a-a28c-4955-91a1-6ec1c33404c5",
   "metadata": {},
   "outputs": [],
   "source": []
  },
  {
   "cell_type": "code",
   "execution_count": 1,
   "id": "0c44c980",
   "metadata": {
    "id": "0c44c980"
   },
   "outputs": [],
   "source": [
    "import pandas as pd\n",
    "import yfinance as yf\n",
    "from datetime import datetime\n",
    "import numpy as np\n",
    "import matplotlib.pyplot as plt\n",
    "\n",
    "import sklearn\n",
    "import scipy.stats as ss\n",
    "from sklearn import linear_model\n",
    "import statsmodels.api as sm\n",
    "\n",
    "from sklearn.model_selection import cross_val_score\n",
    "from sklearn.ensemble import RandomForestRegressor\n",
    "import seaborn as sns\n",
    "\n",
    "from sklearn.model_selection import cross_val_score\n",
    "import xgboost as xgb"
   ]
  },
  {
   "cell_type": "code",
   "execution_count": 2,
   "id": "fd22ed6a-ea3f-422b-90fc-9a2c0e9e0608",
   "metadata": {
    "tags": []
   },
   "outputs": [
    {
     "name": "stdout",
     "output_type": "stream",
     "text": [
      "2.1.3\n",
      "1.6.0\n",
      "2.2.3\n",
      "2.0.2\n"
     ]
    }
   ],
   "source": [
    "print(xgb.__version__)\n",
    "print(sklearn.__version__)\n",
    "print(pd.__version__)\n",
    "print(np.__version__)"
   ]
  },
  {
   "cell_type": "code",
   "execution_count": 3,
   "id": "4d059f22",
   "metadata": {
    "colab": {
     "base_uri": "https://localhost:8080/"
    },
    "id": "4d059f22",
    "outputId": "8fb6f7e8-31a4-487a-8a5a-12d159797f5d"
   },
   "outputs": [
    {
     "name": "stderr",
     "output_type": "stream",
     "text": [
      "[*********************100%***********************]  1 of 1 completed"
     ]
    },
    {
     "name": "stdout",
     "output_type": "stream",
     "text": [
      "META Stock Price History\n",
      "Price        Adj Close       Close        High         Low        Open  \\\n",
      "Ticker            META        META        META        META        META   \n",
      "Date                                                                     \n",
      "2020-01-02  209.150269  209.779999  209.789993  206.270004  206.750000   \n",
      "2020-01-03  208.043610  208.669998  210.399994  206.949997  207.210007   \n",
      "2020-01-06  211.961807  212.600006  212.779999  206.520004  206.699997   \n",
      "2020-01-07  212.420410  213.059998  214.580002  211.750000  212.820007   \n",
      "2020-01-08  214.573944  215.220001  216.240005  212.610001  213.000000   \n",
      "\n",
      "Price         Volume  \n",
      "Ticker          META  \n",
      "Date                  \n",
      "2020-01-02  12077100  \n",
      "2020-01-03  11188400  \n",
      "2020-01-06  17058900  \n",
      "2020-01-07  14912400  \n",
      "2020-01-08  13475000  \n"
     ]
    },
    {
     "name": "stderr",
     "output_type": "stream",
     "text": [
      "\n",
      "/var/folders/t9/95sv32551l196y_bgmpx2ywm0000gn/T/ipykernel_44000/701491432.py:27: FutureWarning: DataFrame.fillna with 'method' is deprecated and will raise in a future version. Use obj.ffill() or obj.bfill() instead.\n",
      "  data_frame.fillna(method='ffill', inplace=True)\n"
     ]
    }
   ],
   "source": [
    "# define daterange\n",
    "start_date = datetime(2020,1,1)\n",
    "end_date = datetime(2024,8,30)\n",
    "\n",
    "# prepare features\n",
    "feature = pd.read_csv('INFO6105_FeatureMart_with_meta_indicators.csv', index_col = [1])\n",
    "feature['Date'] = pd.to_datetime(feature['Date'])\n",
    "feature = feature.set_index('Date')\n",
    "\n",
    "# fetch target variable (stock price or stock returns)\n",
    "stock_symbol = 'META'\n",
    "stock = yf.download(stock_symbol, start_date, end_date)\n",
    "print(stock_symbol + ' Stock Price History')\n",
    "print(stock.head())\n",
    "\n",
    "# Correct the column names after merging\n",
    "stock.columns = ['Open', 'High', 'Low', 'Close', 'Adj_Close', 'Volume']\n",
    "\n",
    "# Reset the index before merging\n",
    "stock.reset_index(inplace=True)\n",
    "feature.reset_index(inplace=True)\n",
    "\n",
    "# Perform the merge\n",
    "data_frame = pd.merge(feature, stock, how='inner', on='Date')\n",
    "\n",
    "# Handle missing values and reset the index\n",
    "data_frame.fillna(method='ffill', inplace=True)\n",
    "data_frame.reset_index(drop=True, inplace=True)\n"
   ]
  },
  {
   "cell_type": "code",
   "execution_count": 4,
   "id": "gJa4mJP040Y1",
   "metadata": {
    "colab": {
     "base_uri": "https://localhost:8080/"
    },
    "id": "gJa4mJP040Y1",
    "outputId": "5262b387-ab72-4688-881f-d6695b3dccbb"
   },
   "outputs": [
    {
     "name": "stdout",
     "output_type": "stream",
     "text": [
      "         Open       Close  log_return\n",
      "1  208.043610  206.949997    0.003291\n",
      "2  211.961807  206.520004   -0.002080\n",
      "3  212.420410  211.750000    0.025009\n",
      "4  214.573944  212.610001    0.004053\n",
      "5  217.644699  216.279999    0.017114\n"
     ]
    }
   ],
   "source": [
    "# Remove the existing 'log_return' column if present\n",
    "if 'log_return' in data_frame.columns:\n",
    "    data_frame = data_frame.drop('log_return', axis=1)\n",
    "\n",
    "# Calculate log return using the previous day's Close price\n",
    "data_frame['log_return'] = np.log(data_frame['Close'] / data_frame['Close'].shift(1))\n",
    "\n",
    "# Drop missing values created by the shift operation\n",
    "data_frame.dropna(inplace=True)\n",
    "\n",
    "# Verify the change by checking the first few rows\n",
    "print(data_frame[['Open', 'Close', 'log_return']].head())\n"
   ]
  },
  {
   "cell_type": "code",
   "execution_count": 5,
   "id": "HiK5WUeDVtrS",
   "metadata": {
    "colab": {
     "base_uri": "https://localhost:8080/",
     "height": 1000
    },
    "id": "HiK5WUeDVtrS",
    "outputId": "b8b44832-0b1c-4642-fa47-5f442063ba86"
   },
   "outputs": [
    {
     "data": {
      "image/png": "[encoded data removed]",
      "text/plain": [
       "<Figure size 1200x600 with 1 Axes>"
      ]
     },
     "metadata": {},
     "output_type": "display_data"
    }
   ],
   "source": [
    "import matplotlib.pyplot as plt\n",
    "\n",
    "plt.figure(figsize=(12, 6))\n",
    "plt.scatter(data_frame['Date'], data_frame['log_return'], label='Log return', color='blue', s=10)\n",
    "plt.title('Log Change over time')\n",
    "plt.xlabel('Date')\n",
    "plt.ylabel('% Change')\n",
    "plt.legend()\n",
    "plt.grid(True, linestyle='--', alpha=0.6)\n",
    "plt.tight_layout()\n",
    "plt.show()\n",
    "\n"
   ]
  },
  {
   "cell_type": "code",
   "execution_count": 6,
   "id": "-oGoaWFy57QR",
   "metadata": {
    "id": "-oGoaWFy57QR"
   },
   "outputs": [
    {
     "data": {
      "text/html": [
       "<div>\n",
       "<style scoped>\n",
       "    .dataframe tbody tr th:only-of-type {\n",
       "        vertical-align: middle;\n",
       "    }\n",
       "\n",
       "    .dataframe tbody tr th {\n",
       "        vertical-align: top;\n",
       "    }\n",
       "\n",
       "    .dataframe thead th {\n",
       "        text-align: right;\n",
       "    }\n",
       "</style>\n",
       "<table border=\"1\" class=\"dataframe\">\n",
       "  <thead>\n",
       "    <tr style=\"text-align: right;\">\n",
       "      <th></th>\n",
       "      <th>Date</th>\n",
       "      <th>SMB</th>\n",
       "      <th>HML</th>\n",
       "      <th>RMW</th>\n",
       "      <th>CMA</th>\n",
       "      <th>RF</th>\n",
       "      <th>ADS_Index</th>\n",
       "      <th>SP500</th>\n",
       "      <th>T10Y3M</th>\n",
       "      <th>DGS10</th>\n",
       "      <th>...</th>\n",
       "      <th>SMA50</th>\n",
       "      <th>OBV</th>\n",
       "      <th>Kalman</th>\n",
       "      <th>Open</th>\n",
       "      <th>High</th>\n",
       "      <th>Low</th>\n",
       "      <th>Close</th>\n",
       "      <th>Adj_Close</th>\n",
       "      <th>Volume</th>\n",
       "      <th>log_return</th>\n",
       "    </tr>\n",
       "  </thead>\n",
       "  <tbody>\n",
       "    <tr>\n",
       "      <th>1</th>\n",
       "      <td>2020-01-03</td>\n",
       "      <td>0.30</td>\n",
       "      <td>0.00</td>\n",
       "      <td>-0.13</td>\n",
       "      <td>-0.11</td>\n",
       "      <td>0.006</td>\n",
       "      <td>-0.279830</td>\n",
       "      <td>3234.85</td>\n",
       "      <td>0.28</td>\n",
       "      <td>1.80</td>\n",
       "      <td>...</td>\n",
       "      <td>197.856799</td>\n",
       "      <td>346748200</td>\n",
       "      <td>208.664315</td>\n",
       "      <td>208.043610</td>\n",
       "      <td>208.669998</td>\n",
       "      <td>210.399994</td>\n",
       "      <td>206.949997</td>\n",
       "      <td>207.210007</td>\n",
       "      <td>11188400</td>\n",
       "      <td>0.003291</td>\n",
       "    </tr>\n",
       "    <tr>\n",
       "      <th>2</th>\n",
       "      <td>2020-01-06</td>\n",
       "      <td>-0.21</td>\n",
       "      <td>-0.55</td>\n",
       "      <td>-0.17</td>\n",
       "      <td>-0.26</td>\n",
       "      <td>0.006</td>\n",
       "      <td>-0.245228</td>\n",
       "      <td>3246.28</td>\n",
       "      <td>0.25</td>\n",
       "      <td>1.81</td>\n",
       "      <td>...</td>\n",
       "      <td>198.385800</td>\n",
       "      <td>363807100</td>\n",
       "      <td>211.614464</td>\n",
       "      <td>211.961807</td>\n",
       "      <td>212.600006</td>\n",
       "      <td>212.779999</td>\n",
       "      <td>206.520004</td>\n",
       "      <td>206.699997</td>\n",
       "      <td>17058900</td>\n",
       "      <td>-0.002080</td>\n",
       "    </tr>\n",
       "    <tr>\n",
       "      <th>3</th>\n",
       "      <td>2020-01-07</td>\n",
       "      <td>-0.03</td>\n",
       "      <td>-0.25</td>\n",
       "      <td>-0.13</td>\n",
       "      <td>-0.24</td>\n",
       "      <td>0.006</td>\n",
       "      <td>-0.234188</td>\n",
       "      <td>3237.18</td>\n",
       "      <td>0.29</td>\n",
       "      <td>1.83</td>\n",
       "      <td>...</td>\n",
       "      <td>198.919399</td>\n",
       "      <td>378719500</td>\n",
       "      <td>212.698019</td>\n",
       "      <td>212.420410</td>\n",
       "      <td>213.059998</td>\n",
       "      <td>214.580002</td>\n",
       "      <td>211.750000</td>\n",
       "      <td>212.820007</td>\n",
       "      <td>14912400</td>\n",
       "      <td>0.025009</td>\n",
       "    </tr>\n",
       "    <tr>\n",
       "      <th>4</th>\n",
       "      <td>2020-01-08</td>\n",
       "      <td>-0.16</td>\n",
       "      <td>-0.66</td>\n",
       "      <td>-0.16</td>\n",
       "      <td>-0.18</td>\n",
       "      <td>0.006</td>\n",
       "      <td>-0.223434</td>\n",
       "      <td>3253.05</td>\n",
       "      <td>0.33</td>\n",
       "      <td>1.87</td>\n",
       "      <td>...</td>\n",
       "      <td>199.465999</td>\n",
       "      <td>392194500</td>\n",
       "      <td>214.588468</td>\n",
       "      <td>214.573944</td>\n",
       "      <td>215.220001</td>\n",
       "      <td>216.240005</td>\n",
       "      <td>212.610001</td>\n",
       "      <td>213.000000</td>\n",
       "      <td>13475000</td>\n",
       "      <td>0.004053</td>\n",
       "    </tr>\n",
       "    <tr>\n",
       "      <th>5</th>\n",
       "      <td>2020-01-09</td>\n",
       "      <td>-0.71</td>\n",
       "      <td>-0.48</td>\n",
       "      <td>-0.14</td>\n",
       "      <td>0.04</td>\n",
       "      <td>0.006</td>\n",
       "      <td>-0.212961</td>\n",
       "      <td>3274.70</td>\n",
       "      <td>0.31</td>\n",
       "      <td>1.85</td>\n",
       "      <td>...</td>\n",
       "      <td>200.044000</td>\n",
       "      <td>404837300</td>\n",
       "      <td>217.370592</td>\n",
       "      <td>217.644699</td>\n",
       "      <td>218.300003</td>\n",
       "      <td>218.380005</td>\n",
       "      <td>216.279999</td>\n",
       "      <td>217.539993</td>\n",
       "      <td>12642800</td>\n",
       "      <td>0.017114</td>\n",
       "    </tr>\n",
       "    <tr>\n",
       "      <th>...</th>\n",
       "      <td>...</td>\n",
       "      <td>...</td>\n",
       "      <td>...</td>\n",
       "      <td>...</td>\n",
       "      <td>...</td>\n",
       "      <td>...</td>\n",
       "      <td>...</td>\n",
       "      <td>...</td>\n",
       "      <td>...</td>\n",
       "      <td>...</td>\n",
       "      <td>...</td>\n",
       "      <td>...</td>\n",
       "      <td>...</td>\n",
       "      <td>...</td>\n",
       "      <td>...</td>\n",
       "      <td>...</td>\n",
       "      <td>...</td>\n",
       "      <td>...</td>\n",
       "      <td>...</td>\n",
       "      <td>...</td>\n",
       "      <td>...</td>\n",
       "    </tr>\n",
       "    <tr>\n",
       "      <th>1168</th>\n",
       "      <td>2024-08-23</td>\n",
       "      <td>1.90</td>\n",
       "      <td>0.85</td>\n",
       "      <td>-0.48</td>\n",
       "      <td>0.68</td>\n",
       "      <td>0.022</td>\n",
       "      <td>-0.140090</td>\n",
       "      <td>5634.61</td>\n",
       "      <td>-1.44</td>\n",
       "      <td>3.81</td>\n",
       "      <td>...</td>\n",
       "      <td>502.936000</td>\n",
       "      <td>1245186000</td>\n",
       "      <td>529.064247</td>\n",
       "      <td>527.496765</td>\n",
       "      <td>528.000000</td>\n",
       "      <td>539.869995</td>\n",
       "      <td>525.059998</td>\n",
       "      <td>536.919983</td>\n",
       "      <td>11323900</td>\n",
       "      <td>-0.006701</td>\n",
       "    </tr>\n",
       "    <tr>\n",
       "      <th>1169</th>\n",
       "      <td>2024-08-26</td>\n",
       "      <td>0.33</td>\n",
       "      <td>0.17</td>\n",
       "      <td>0.13</td>\n",
       "      <td>-0.06</td>\n",
       "      <td>0.022</td>\n",
       "      <td>-0.162837</td>\n",
       "      <td>5616.84</td>\n",
       "      <td>-1.42</td>\n",
       "      <td>3.82</td>\n",
       "      <td>...</td>\n",
       "      <td>503.276400</td>\n",
       "      <td>1235602000</td>\n",
       "      <td>523.109327</td>\n",
       "      <td>520.623352</td>\n",
       "      <td>521.119995</td>\n",
       "      <td>528.000000</td>\n",
       "      <td>514.950012</td>\n",
       "      <td>527.599976</td>\n",
       "      <td>9584000</td>\n",
       "      <td>-0.019443</td>\n",
       "    </tr>\n",
       "    <tr>\n",
       "      <th>1170</th>\n",
       "      <td>2024-08-27</td>\n",
       "      <td>-0.90</td>\n",
       "      <td>0.02</td>\n",
       "      <td>0.27</td>\n",
       "      <td>0.23</td>\n",
       "      <td>0.022</td>\n",
       "      <td>-0.172439</td>\n",
       "      <td>5625.80</td>\n",
       "      <td>-1.40</td>\n",
       "      <td>3.83</td>\n",
       "      <td>...</td>\n",
       "      <td>503.575200</td>\n",
       "      <td>1229319300</td>\n",
       "      <td>520.103963</td>\n",
       "      <td>518.605225</td>\n",
       "      <td>519.099976</td>\n",
       "      <td>524.010010</td>\n",
       "      <td>515.309998</td>\n",
       "      <td>518.979980</td>\n",
       "      <td>6282700</td>\n",
       "      <td>0.000699</td>\n",
       "    </tr>\n",
       "    <tr>\n",
       "      <th>1171</th>\n",
       "      <td>2024-08-28</td>\n",
       "      <td>-0.22</td>\n",
       "      <td>1.14</td>\n",
       "      <td>0.55</td>\n",
       "      <td>-0.16</td>\n",
       "      <td>0.022</td>\n",
       "      <td>-0.183081</td>\n",
       "      <td>5592.18</td>\n",
       "      <td>-1.37</td>\n",
       "      <td>3.84</td>\n",
       "      <td>...</td>\n",
       "      <td>503.778200</td>\n",
       "      <td>1220213200</td>\n",
       "      <td>517.612380</td>\n",
       "      <td>516.287476</td>\n",
       "      <td>516.780029</td>\n",
       "      <td>521.090027</td>\n",
       "      <td>512.450012</td>\n",
       "      <td>517.669983</td>\n",
       "      <td>9106100</td>\n",
       "      <td>-0.005565</td>\n",
       "    </tr>\n",
       "    <tr>\n",
       "      <th>1172</th>\n",
       "      <td>2024-08-29</td>\n",
       "      <td>0.67</td>\n",
       "      <td>0.28</td>\n",
       "      <td>-0.15</td>\n",
       "      <td>-1.22</td>\n",
       "      <td>0.022</td>\n",
       "      <td>-0.194767</td>\n",
       "      <td>5591.96</td>\n",
       "      <td>-1.35</td>\n",
       "      <td>3.87</td>\n",
       "      <td>...</td>\n",
       "      <td>504.152800</td>\n",
       "      <td>1228530600</td>\n",
       "      <td>518.067823</td>\n",
       "      <td>517.726074</td>\n",
       "      <td>518.219971</td>\n",
       "      <td>527.200012</td>\n",
       "      <td>515.679993</td>\n",
       "      <td>519.049988</td>\n",
       "      <td>8317400</td>\n",
       "      <td>0.006283</td>\n",
       "    </tr>\n",
       "  </tbody>\n",
       "</table>\n",
       "<p>1172 rows × 43 columns</p>\n",
       "</div>"
      ],
      "text/plain": [
       "           Date   SMB   HML   RMW   CMA     RF  ADS_Index    SP500  T10Y3M  \\\n",
       "1    2020-01-03  0.30  0.00 -0.13 -0.11  0.006  -0.279830  3234.85    0.28   \n",
       "2    2020-01-06 -0.21 -0.55 -0.17 -0.26  0.006  -0.245228  3246.28    0.25   \n",
       "3    2020-01-07 -0.03 -0.25 -0.13 -0.24  0.006  -0.234188  3237.18    0.29   \n",
       "4    2020-01-08 -0.16 -0.66 -0.16 -0.18  0.006  -0.223434  3253.05    0.33   \n",
       "5    2020-01-09 -0.71 -0.48 -0.14  0.04  0.006  -0.212961  3274.70    0.31   \n",
       "...         ...   ...   ...   ...   ...    ...        ...      ...     ...   \n",
       "1168 2024-08-23  1.90  0.85 -0.48  0.68  0.022  -0.140090  5634.61   -1.44   \n",
       "1169 2024-08-26  0.33  0.17  0.13 -0.06  0.022  -0.162837  5616.84   -1.42   \n",
       "1170 2024-08-27 -0.90  0.02  0.27  0.23  0.022  -0.172439  5625.80   -1.40   \n",
       "1171 2024-08-28 -0.22  1.14  0.55 -0.16  0.022  -0.183081  5592.18   -1.37   \n",
       "1172 2024-08-29  0.67  0.28 -0.15 -1.22  0.022  -0.194767  5591.96   -1.35   \n",
       "\n",
       "      DGS10  ...       SMA50         OBV      Kalman        Open        High  \\\n",
       "1      1.80  ...  197.856799   346748200  208.664315  208.043610  208.669998   \n",
       "2      1.81  ...  198.385800   363807100  211.614464  211.961807  212.600006   \n",
       "3      1.83  ...  198.919399   378719500  212.698019  212.420410  213.059998   \n",
       "4      1.87  ...  199.465999   392194500  214.588468  214.573944  215.220001   \n",
       "5      1.85  ...  200.044000   404837300  217.370592  217.644699  218.300003   \n",
       "...     ...  ...         ...         ...         ...         ...         ...   \n",
       "1168   3.81  ...  502.936000  1245186000  529.064247  527.496765  528.000000   \n",
       "1169   3.82  ...  503.276400  1235602000  523.109327  520.623352  521.119995   \n",
       "1170   3.83  ...  503.575200  1229319300  520.103963  518.605225  519.099976   \n",
       "1171   3.84  ...  503.778200  1220213200  517.612380  516.287476  516.780029   \n",
       "1172   3.87  ...  504.152800  1228530600  518.067823  517.726074  518.219971   \n",
       "\n",
       "             Low       Close   Adj_Close    Volume  log_return  \n",
       "1     210.399994  206.949997  207.210007  11188400    0.003291  \n",
       "2     212.779999  206.520004  206.699997  17058900   -0.002080  \n",
       "3     214.580002  211.750000  212.820007  14912400    0.025009  \n",
       "4     216.240005  212.610001  213.000000  13475000    0.004053  \n",
       "5     218.380005  216.279999  217.539993  12642800    0.017114  \n",
       "...          ...         ...         ...       ...         ...  \n",
       "1168  539.869995  525.059998  536.919983  11323900   -0.006701  \n",
       "1169  528.000000  514.950012  527.599976   9584000   -0.019443  \n",
       "1170  524.010010  515.309998  518.979980   6282700    0.000699  \n",
       "1171  521.090027  512.450012  517.669983   9106100   -0.005565  \n",
       "1172  527.200012  515.679993  519.049988   8317400    0.006283  \n",
       "\n",
       "[1172 rows x 43 columns]"
      ]
     },
     "execution_count": 6,
     "metadata": {},
     "output_type": "execute_result"
    }
   ],
   "source": [
    "data_frame"
   ]
  },
  {
   "cell_type": "markdown",
   "id": "W8RY1fJVg0VT",
   "metadata": {
    "id": "W8RY1fJVg0VT"
   },
   "source": [
    "## Feature importance"
   ]
  },
  {
   "cell_type": "markdown",
   "id": "L3suk6FSg23n",
   "metadata": {
    "id": "L3suk6FSg23n"
   },
   "source": [
    "## trainig"
   ]
  },
  {
   "cell_type": "code",
   "execution_count": 7,
   "id": "0de22dd8",
   "metadata": {
    "id": "0de22dd8"
   },
   "outputs": [],
   "source": [
    "# model = xgb.XGBRegressor(\n",
    "#     objective='reg:squarederror',\n",
    "#     n_estimators=200,         # Increase for better learning\n",
    "#     learning_rate=0.05,       # Lower learning rate\n",
    "#     max_depth=3,\n",
    "#     random_state = 42\n",
    "# )\n",
    "\n",
    "# For Ridge Regression\n",
    "from sklearn.linear_model import Ridge\n",
    " \n",
    "# For Random Forest\n",
    "from sklearn.ensemble import RandomForestRegressor\n",
    "\n",
    "# Step 7: Initialize the XGBoost model with tuned hyperparameters\n",
    "model = xgb.XGBRegressor(learning_rate=0.05, max_depth=3, n_estimators=200, random_state=42)"
   ]
  },
  {
   "cell_type": "code",
   "execution_count": 8,
   "id": "c5168c59-3434-40c1-bd93-d322348b5e35",
   "metadata": {},
   "outputs": [],
   "source": [
    "# # For Ridge Regression\n",
    "# from sklearn.linear_model import Ridge\n",
    " \n",
    "# # For Random Forest\n",
    "# from sklearn.ensemble import RandomForestRegressor\n",
    " \n",
    "# # # Ridge Regression model\n",
    "# # model = Ridge(alpha=1.0, random_state=42)\n",
    " \n",
    "# # # Random Forest model\n",
    "# # model = RandomForestRegressor(n_estimators=200, max_depth=3, random_state=42)\n",
    " \n",
    " \n",
    "# # XGBoost model\n",
    "# # model = xgb.XGBRegressor(learning_rate=0.05, max_depth=3, n_estimators=200, random_state=42)"
   ]
  },
  {
   "cell_type": "markdown",
   "id": "M1fojd_oSkNK",
   "metadata": {
    "id": "M1fojd_oSkNK"
   },
   "source": [
    "## log return as target model"
   ]
  },
  {
   "cell_type": "code",
   "execution_count": 9,
   "id": "yKZylVhC7PsG",
   "metadata": {
    "id": "yKZylVhC7PsG"
   },
   "outputs": [],
   "source": [
    "features = ['RSI','RF','CMA','HML','Volatility','VIXCLS','RMW','SMB','DHHNGSP','EMVELECTGOVRN_interp']"
   ]
  },
  {
   "cell_type": "markdown",
   "id": "rKv1Y7RcEC_V",
   "metadata": {
    "id": "rKv1Y7RcEC_V"
   },
   "source": [
    "## old log code"
   ]
  },
  {
   "cell_type": "code",
   "execution_count": 10,
   "id": "c_hnkckIGzAV",
   "metadata": {
    "id": "c_hnkckIGzAV"
   },
   "outputs": [
    {
     "name": "stdout",
     "output_type": "stream",
     "text": [
      "Error at index 252: name 'trade_gain_loss' is not defined\n",
      "Error at index 253: name 'trade_gain_loss' is not defined\n"
     ]
    }
   ],
   "source": [
    "# Assuming the necessary features are defined\n",
    "\n",
    "target = 'log_return'\n",
    "\n",
    "# Assuming data_frame is already loaded\n",
    "# data_frame['log_return'] = np.log(data_frame['Close'] / data_frame['Open'])\n",
    "\n",
    "# Drop rows with missing values\n",
    "data_frame = data_frame.dropna()\n",
    "\n",
    "# Split the data into features and target variable\n",
    "X = data_frame[features]\n",
    "y = data_frame[target]\n",
    "\n",
    "# Train-test split\n",
    "train_size = int(0.90 * len(data_frame))\n",
    "X_train, X_test = X[:train_size], X[train_size:]\n",
    "y_train, y_test = y[:train_size], y[train_size:]\n",
    "\n",
    "# Initialize and train the XGBoost model\n",
    "model.fit(X_train, y_train)\n",
    "\n",
    "# Trading simulation setup\n",
    "start_date_index = 252\n",
    "initial_balance = 50000\n",
    "balance = {start_date_index: initial_balance}\n",
    "position = 100\n",
    "signal = {}\n",
    "gain_loss = {}\n",
    "\n",
    "# Define stop-loss, take-profit, and confidence threshold levels\n",
    "stop_loss = 0.01  # 1% stop-loss\n",
    "take_profit = 0.05  # 5% take-profit\n",
    "confidence_threshold = 0.01  # Confidence threshold for making trades\n",
    "threshold = 0.005  # Prediction threshold for buy/sell signal\n",
    "\n",
    "# Trading loop\n",
    "for today in range(start_date_index, len(data_frame) - 1):\n",
    "    try:\n",
    "        # Prepare test data for prediction\n",
    "        X_test_today = data_frame.iloc[today:today + 1][features]\n",
    "\n",
    "        # Predict the log return for tomorrow\n",
    "        y_pred_tomorrow = model.predict(X_test_today)[0]  # Added [0] to get scalar value\n",
    "\n",
    "        # Confidence check before trading\n",
    "        if abs(y_pred_tomorrow) > confidence_threshold:\n",
    "            if y_pred_tomorrow > threshold:\n",
    "                signal[today + 1] = 1  # Buy signal\n",
    "                trade_gain_loss = (data_frame['Close'].iloc[today + 1] - data_frame['Open'].iloc[today + 1]) * position\n",
    "\n",
    "                # Implement stop-loss and take-profit check\n",
    "                if (data_frame['Close'].iloc[today + 1] - data_frame['Open'].iloc[today + 1]) / data_frame['Open'].iloc[today + 1] < -stop_loss:\n",
    "                    trade_gain_loss = -stop_loss * position  # Stop-loss triggered\n",
    "                elif (data_frame['Close'].iloc[today + 1] - data_frame['Open'].iloc[today + 1]) / data_frame['Open'].iloc[today + 1] > take_profit:\n",
    "                    trade_gain_loss = take_profit * position  # Take-profit triggered\n",
    "\n",
    "            elif y_pred_tomorrow < -threshold:\n",
    "                signal[today + 1] = -1  # Sell signal\n",
    "                trade_gain_loss = (data_frame['Open'].iloc[today + 1] - data_frame['Close'].iloc[today + 1]) * position\n",
    "\n",
    "        # Update balance (only if no error occurs)\n",
    "        prev_balance = balance[today]  # Use direct indexing\n",
    "        balance[today + 1] = prev_balance + trade_gain_loss\n",
    "        gain_loss[today + 1] = trade_gain_loss\n",
    "\n",
    "    except Exception as e:\n",
    "        print(f\"Error at index {today}: {e}\")\n",
    "        # Ensure balance remains the same if an error occurs\n",
    "        if today in balance:\n",
    "            balance[today + 1] = balance[today]\n",
    "\n",
    "# Create results DataFrame\n",
    "results = pd.DataFrame({\n",
    "    'Signal': pd.Series(signal),\n",
    "    'Gain/Loss': pd.Series(gain_loss),\n",
    "    'Balance': pd.Series(balance)\n",
    "})\n"
   ]
  },
  {
   "cell_type": "code",
   "execution_count": 11,
   "id": "Lb2lYbHZs26c",
   "metadata": {
    "colab": {
     "base_uri": "https://localhost:8080/"
    },
    "id": "Lb2lYbHZs26c",
    "outputId": "7cb27c98-279c-4ff2-aafd-e5719f0c03b7"
   },
   "outputs": [
    {
     "name": "stdout",
     "output_type": "stream",
     "text": [
      "MAE: 0.01626049405116896\n",
      "R² Score: 0.028775964993406622\n",
      "\n",
      "Unique Signals: [nan -1.  1.]\n",
      "Signal Counts: Signal\n",
      " 1.0    143\n",
      "-1.0    137\n",
      "Name: count, dtype: int64\n",
      "RMSE: 0.0307\n"
     ]
    }
   ],
   "source": [
    "from sklearn.metrics import mean_absolute_error, r2_score\n",
    "from sklearn.metrics import mean_squared_error\n",
    "import numpy as np\n",
    "\n",
    "# Print MAE and R² Score\n",
    "print(\"MAE:\", mean_absolute_error(y_test, model.predict(X_test)))\n",
    "print(\"R² Score:\", r2_score(y_test, model.predict(X_test)))\n",
    "\n",
    "# Display all unique values in the 'Signal' column\n",
    "unique_signals = results['Signal'].unique()\n",
    "print(\"\\nUnique Signals:\", unique_signals)\n",
    "\n",
    "# Display the frequency of each unique value in the 'Signal' column\n",
    "signal_counts = results['Signal'].value_counts()\n",
    "print(\"Signal Counts:\", signal_counts)\n",
    "\n",
    "# Collect predictions and actual values from the test set\n",
    "predictions = []\n",
    "actuals = []\n",
    "\n",
    "# Re-run trading loop with prediction collection\n",
    "for today in range(start_date_index, len(data_frame) - 1):\n",
    "    try:\n",
    "        # Prepare test data for prediction\n",
    "        X_test_today = data_frame.iloc[today:today+1][features]\n",
    "\n",
    "        # Predict the next day's percentage change\n",
    "        y_pred_tomorrow = model.predict(X_test_today)[0]\n",
    "\n",
    "        # Collect prediction and actual value\n",
    "        predictions.append(y_pred_tomorrow)\n",
    "        actuals.append(data_frame[target].iloc[today + 1])\n",
    "\n",
    "    except Exception as e:\n",
    "        print(f\"Error at index {today}: {e}\")\n",
    "\n",
    "# Calculate MSE and then RMSE\n",
    "mse = mean_squared_error(actuals, predictions)\n",
    "rmse = np.sqrt(mse)\n",
    "print(f\"RMSE: {rmse:.4f}\")\n",
    "\n"
   ]
  },
  {
   "cell_type": "code",
   "execution_count": 12,
   "id": "6EYApi9Rjfti",
   "metadata": {
    "colab": {
     "base_uri": "https://localhost:8080/"
    },
    "id": "6EYApi9Rjfti",
    "outputId": "1be3489f-6f8f-456a-dc8d-02adf7cd7002"
   },
   "outputs": [
    {
     "name": "stdout",
     "output_type": "stream",
     "text": [
      "0.0064226543\n"
     ]
    }
   ],
   "source": [
    "print(y_pred_tomorrow)"
   ]
  },
  {
   "cell_type": "markdown",
   "id": "SOf978dPegGG",
   "metadata": {
    "id": "SOf978dPegGG"
   },
   "source": [
    "## old plot code"
   ]
  },
  {
   "cell_type": "code",
   "execution_count": 13,
   "id": "dW-gYeUX0Sv5",
   "metadata": {
    "colab": {
     "base_uri": "https://localhost:8080/",
     "height": 638
    },
    "id": "dW-gYeUX0Sv5",
    "outputId": "9227e73d-b8fb-4160-9053-444bacb003a2"
   },
   "outputs": [
    {
     "name": "stdout",
     "output_type": "stream",
     "text": [
      "Strategy Total Return: $157,333.60\n",
      "Buy & Hold Total Return: $46,161.34\n",
      "Strategy Return Percentage: 314.67%\n",
      "Buy & Hold Return Percentage: 92.32%\n"
     ]
    },
    {
     "data": {
      "image/png": "[encoded data removed]",
      "text/plain": [
       "<Figure size 1200x600 with 1 Axes>"
      ]
     },
     "metadata": {},
     "output_type": "display_data"
    }
   ],
   "source": [
    "# Add the Date column using the stock index\n",
    "results['Date'] = data_frame.index[results.index]\n",
    "results.set_index('Date', inplace=True)\n",
    "\n",
    "# --- Calculate Buy and Hold Strategy ---\n",
    "initial_purchase_price = data_frame['Open'].iloc[start_date_index]\n",
    "shares_purchased = initial_balance / initial_purchase_price\n",
    "\n",
    "# Buy & Hold value over time\n",
    "results['Buy_Hold'] = initial_balance + (\n",
    "    data_frame['Close'].loc[results.index] - initial_purchase_price\n",
    ") * shares_purchased\n",
    "\n",
    "# --- Calculate Performance Metrics ---\n",
    "results['Cumulative_Return'] = (results['Balance'] - initial_balance) / initial_balance * 100\n",
    "results['Buy_Hold_Return'] = (results['Buy_Hold'] - initial_balance) / initial_balance * 100\n",
    "\n",
    "# --- Performance Comparison ---\n",
    "strategy_total_return = results['Balance'].iloc[-1] - initial_balance\n",
    "buy_hold_return = results['Buy_Hold'].iloc[-1] - initial_balance\n",
    "\n",
    "print(f\"Strategy Total Return: ${strategy_total_return:,.2f}\")\n",
    "print(f\"Buy & Hold Total Return: ${buy_hold_return:,.2f}\")\n",
    "print(f\"Strategy Return Percentage: {strategy_total_return / initial_balance * 100:.2f}%\")\n",
    "print(f\"Buy & Hold Return Percentage: {buy_hold_return / initial_balance * 100:.2f}%\")\n",
    "\n",
    "# --- Visualize Performance ---\n",
    "plt.figure(figsize=(12,6))\n",
    "plt.plot(results.index, results['Balance'], label='Strategy Balance', color='b')\n",
    "plt.plot(results.index, results['Buy_Hold'], label='Buy & Hold', color='g')\n",
    "plt.title('Portfolio Performance Comparison (Log Return Strategy)')\n",
    "plt.xlabel('Date')\n",
    "plt.ylabel('Portfolio Value ($)')\n",
    "plt.legend()\n",
    "plt.tight_layout()\n",
    "plt.show()"
   ]
  },
  {
   "cell_type": "code",
   "execution_count": null,
   "id": "uv6D28Z2Izlr",
   "metadata": {
    "id": "uv6D28Z2Izlr",
    "tags": []
   },
   "outputs": [],
   "source": []
  },
  {
   "cell_type": "code",
   "execution_count": null,
   "id": "afc48b39-fac4-48dd-8a6c-40f496f8405d",
   "metadata": {},
   "outputs": [],
   "source": []
  }
 ],
 "metadata": {
  "accelerator": "GPU",
  "colab": {
   "gpuType": "T4",
   "provenance": []
  },
  "kernelspec": {
   "display_name": "Python 3 (ipykernel)",
   "language": "python",
   "name": "python3"
  },
  "language_info": {
   "codemirror_mode": {
    "name": "ipython",
    "version": 3
   },
   "file_extension": ".py",
   "mimetype": "text/x-python",
   "name": "python",
   "nbconvert_exporter": "python",
   "pygments_lexer": "ipython3",
   "version": "3.11.5"
  }
 },
 "nbformat": 4,
 "nbformat_minor": 5
}
